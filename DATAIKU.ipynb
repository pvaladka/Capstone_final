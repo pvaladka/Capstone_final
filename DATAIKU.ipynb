{
 "cells": [
  {
   "cell_type": "code",
   "execution_count": 3,
   "metadata": {},
   "outputs": [],
   "source": [
    "import dataiku\n",
    "import numpy as np\n",
    "import pandas as pd\n",
    "import sklearn as sk\n",
    "import dataiku.core.pandasutils as pdu\n",
    "from dataiku.doctor.preprocessing import PCA\n",
    "from collections import defaultdict, Counter"
   ]
  },
  {
   "cell_type": "code",
   "execution_count": 2,
   "metadata": {},
   "outputs": [],
   "source": [
    "pd.set_option('display.width', 3000)\n",
    "pd.set_option('display.max_rows', 200)\n",
    "pd.set_option('display.max_columns', 200)"
   ]
  },
  {
   "cell_type": "code",
   "execution_count": 5,
   "metadata": {},
   "outputs": [
    {
     "ename": "NameError",
     "evalue": "name 'dataiku' is not defined",
     "output_type": "error",
     "traceback": [
      "\u001b[0;31m---------------------------------------------------------------------------\u001b[0m",
      "\u001b[0;31mNameError\u001b[0m                                 Traceback (most recent call last)",
      "\u001b[0;32m<ipython-input-5-d27824d3898e>\u001b[0m in \u001b[0;36m<module>\u001b[0;34m()\u001b[0m\n\u001b[1;32m      3\u001b[0m \u001b[0mpreparation_output_schema\u001b[0m \u001b[0;34m=\u001b[0m \u001b[0;34m{\u001b[0m\u001b[0;34mu'userModified'\u001b[0m\u001b[0;34m:\u001b[0m \u001b[0;32mFalse\u001b[0m\u001b[0;34m,\u001b[0m \u001b[0;34mu'columns'\u001b[0m\u001b[0;34m:\u001b[0m \u001b[0;34m[\u001b[0m\u001b[0;34m{\u001b[0m\u001b[0;34mu'timestampNoTzAsDate'\u001b[0m\u001b[0;34m:\u001b[0m \u001b[0;32mFalse\u001b[0m\u001b[0;34m,\u001b[0m \u001b[0;34mu'type'\u001b[0m\u001b[0;34m:\u001b[0m \u001b[0;34mu'bigint'\u001b[0m\u001b[0;34m,\u001b[0m \u001b[0;34mu'name'\u001b[0m\u001b[0;34m:\u001b[0m \u001b[0;34mu'GO Primary Key'\u001b[0m\u001b[0;34m,\u001b[0m \u001b[0;34mu'maxLength'\u001b[0m\u001b[0;34m:\u001b[0m \u001b[0;34m-\u001b[0m\u001b[0;36m1\u001b[0m\u001b[0;34m}\u001b[0m\u001b[0;34m,\u001b[0m \u001b[0;34m{\u001b[0m\u001b[0;34mu'timestampNoTzAsDate'\u001b[0m\u001b[0;34m:\u001b[0m \u001b[0;32mFalse\u001b[0m\u001b[0;34m,\u001b[0m \u001b[0;34mu'type'\u001b[0m\u001b[0;34m:\u001b[0m \u001b[0;34mu'bigint'\u001b[0m\u001b[0;34m,\u001b[0m \u001b[0;34mu'name'\u001b[0m\u001b[0;34m:\u001b[0m \u001b[0;34mu'Council District'\u001b[0m\u001b[0;34m,\u001b[0m \u001b[0;34mu'maxLength'\u001b[0m\u001b[0;34m:\u001b[0m \u001b[0;34m-\u001b[0m\u001b[0;36m1\u001b[0m\u001b[0;34m}\u001b[0m\u001b[0;34m,\u001b[0m \u001b[0;34m{\u001b[0m\u001b[0;34mu'timestampNoTzAsDate'\u001b[0m\u001b[0;34m:\u001b[0m \u001b[0;32mFalse\u001b[0m\u001b[0;34m,\u001b[0m \u001b[0;34mu'type'\u001b[0m\u001b[0;34m:\u001b[0m \u001b[0;34mu'string'\u001b[0m\u001b[0;34m,\u001b[0m \u001b[0;34mu'name'\u001b[0m\u001b[0;34m:\u001b[0m \u001b[0;34mu'GO Highest Offense Desc'\u001b[0m\u001b[0;34m,\u001b[0m \u001b[0;34mu'maxLength'\u001b[0m\u001b[0;34m:\u001b[0m \u001b[0;34m-\u001b[0m\u001b[0;36m1\u001b[0m\u001b[0;34m}\u001b[0m\u001b[0;34m,\u001b[0m \u001b[0;34m{\u001b[0m\u001b[0;34mu'timestampNoTzAsDate'\u001b[0m\u001b[0;34m:\u001b[0m \u001b[0;32mFalse\u001b[0m\u001b[0;34m,\u001b[0m \u001b[0;34mu'type'\u001b[0m\u001b[0;34m:\u001b[0m \u001b[0;34mu'string'\u001b[0m\u001b[0;34m,\u001b[0m \u001b[0;34mu'name'\u001b[0m\u001b[0;34m:\u001b[0m \u001b[0;34mu'Highest NIBRS/UCR Offense Description'\u001b[0m\u001b[0;34m,\u001b[0m \u001b[0;34mu'maxLength'\u001b[0m\u001b[0;34m:\u001b[0m \u001b[0;34m-\u001b[0m\u001b[0;36m1\u001b[0m\u001b[0;34m}\u001b[0m\u001b[0;34m,\u001b[0m \u001b[0;34m{\u001b[0m\u001b[0;34mu'timestampNoTzAsDate'\u001b[0m\u001b[0;34m:\u001b[0m \u001b[0;32mFalse\u001b[0m\u001b[0;34m,\u001b[0m \u001b[0;34mu'type'\u001b[0m\u001b[0;34m:\u001b[0m \u001b[0;34mu'string'\u001b[0m\u001b[0;34m,\u001b[0m \u001b[0;34mu'name'\u001b[0m\u001b[0;34m:\u001b[0m \u001b[0;34mu'GO Report Date'\u001b[0m\u001b[0;34m,\u001b[0m \u001b[0;34mu'maxLength'\u001b[0m\u001b[0;34m:\u001b[0m \u001b[0;34m-\u001b[0m\u001b[0;36m1\u001b[0m\u001b[0;34m}\u001b[0m\u001b[0;34m,\u001b[0m \u001b[0;34m{\u001b[0m\u001b[0;34mu'timestampNoTzAsDate'\u001b[0m\u001b[0;34m:\u001b[0m \u001b[0;32mFalse\u001b[0m\u001b[0;34m,\u001b[0m \u001b[0;34mu'type'\u001b[0m\u001b[0;34m:\u001b[0m \u001b[0;34mu'string'\u001b[0m\u001b[0;34m,\u001b[0m \u001b[0;34mu'name'\u001b[0m\u001b[0;34m:\u001b[0m \u001b[0;34mu'GO Location'\u001b[0m\u001b[0;34m,\u001b[0m \u001b[0;34mu'maxLength'\u001b[0m\u001b[0;34m:\u001b[0m \u001b[0;34m-\u001b[0m\u001b[0;36m1\u001b[0m\u001b[0;34m}\u001b[0m\u001b[0;34m,\u001b[0m \u001b[0;34m{\u001b[0m\u001b[0;34mu'timestampNoTzAsDate'\u001b[0m\u001b[0;34m:\u001b[0m \u001b[0;32mFalse\u001b[0m\u001b[0;34m,\u001b[0m \u001b[0;34mu'downcastedToStringFromMeaning'\u001b[0m\u001b[0;34m:\u001b[0m \u001b[0;34mu'Boolean'\u001b[0m\u001b[0;34m,\u001b[0m \u001b[0;34mu'type'\u001b[0m\u001b[0;34m:\u001b[0m \u001b[0;34mu'string'\u001b[0m\u001b[0;34m,\u001b[0m \u001b[0;34mu'name'\u001b[0m\u001b[0;34m:\u001b[0m \u001b[0;34mu'Clearance Status'\u001b[0m\u001b[0;34m,\u001b[0m \u001b[0;34mu'maxLength'\u001b[0m\u001b[0;34m:\u001b[0m \u001b[0;34m-\u001b[0m\u001b[0;36m1\u001b[0m\u001b[0;34m}\u001b[0m\u001b[0;34m,\u001b[0m \u001b[0;34m{\u001b[0m\u001b[0;34mu'timestampNoTzAsDate'\u001b[0m\u001b[0;34m:\u001b[0m \u001b[0;32mFalse\u001b[0m\u001b[0;34m,\u001b[0m \u001b[0;34mu'type'\u001b[0m\u001b[0;34m:\u001b[0m \u001b[0;34mu'string'\u001b[0m\u001b[0;34m,\u001b[0m \u001b[0;34mu'name'\u001b[0m\u001b[0;34m:\u001b[0m \u001b[0;34mu'Clearance Date'\u001b[0m\u001b[0;34m,\u001b[0m \u001b[0;34mu'maxLength'\u001b[0m\u001b[0;34m:\u001b[0m \u001b[0;34m-\u001b[0m\u001b[0;36m1\u001b[0m\u001b[0;34m}\u001b[0m\u001b[0;34m,\u001b[0m \u001b[0;34m{\u001b[0m\u001b[0;34mu'timestampNoTzAsDate'\u001b[0m\u001b[0;34m:\u001b[0m \u001b[0;32mFalse\u001b[0m\u001b[0;34m,\u001b[0m \u001b[0;34mu'type'\u001b[0m\u001b[0;34m:\u001b[0m \u001b[0;34mu'string'\u001b[0m\u001b[0;34m,\u001b[0m \u001b[0;34mu'name'\u001b[0m\u001b[0;34m:\u001b[0m \u001b[0;34mu'GO District'\u001b[0m\u001b[0;34m,\u001b[0m \u001b[0;34mu'maxLength'\u001b[0m\u001b[0;34m:\u001b[0m \u001b[0;34m-\u001b[0m\u001b[0;36m1\u001b[0m\u001b[0;34m}\u001b[0m\u001b[0;34m,\u001b[0m \u001b[0;34m{\u001b[0m\u001b[0;34mu'timestampNoTzAsDate'\u001b[0m\u001b[0;34m:\u001b[0m \u001b[0;32mFalse\u001b[0m\u001b[0;34m,\u001b[0m \u001b[0;34mu'type'\u001b[0m\u001b[0;34m:\u001b[0m \u001b[0;34mu'bigint'\u001b[0m\u001b[0;34m,\u001b[0m \u001b[0;34mu'name'\u001b[0m\u001b[0;34m:\u001b[0m \u001b[0;34mu'GO Location Zip'\u001b[0m\u001b[0;34m,\u001b[0m \u001b[0;34mu'maxLength'\u001b[0m\u001b[0;34m:\u001b[0m \u001b[0;34m-\u001b[0m\u001b[0;36m1\u001b[0m\u001b[0;34m}\u001b[0m\u001b[0;34m,\u001b[0m \u001b[0;34m{\u001b[0m\u001b[0;34mu'timestampNoTzAsDate'\u001b[0m\u001b[0;34m:\u001b[0m \u001b[0;32mFalse\u001b[0m\u001b[0;34m,\u001b[0m \u001b[0;34mu'type'\u001b[0m\u001b[0;34m:\u001b[0m \u001b[0;34mu'double'\u001b[0m\u001b[0;34m,\u001b[0m \u001b[0;34mu'name'\u001b[0m\u001b[0;34m:\u001b[0m \u001b[0;34mu'GO Census Tract'\u001b[0m\u001b[0;34m,\u001b[0m \u001b[0;34mu'maxLength'\u001b[0m\u001b[0;34m:\u001b[0m \u001b[0;34m-\u001b[0m\u001b[0;36m1\u001b[0m\u001b[0;34m}\u001b[0m\u001b[0;34m,\u001b[0m \u001b[0;34m{\u001b[0m\u001b[0;34mu'timestampNoTzAsDate'\u001b[0m\u001b[0;34m:\u001b[0m \u001b[0;32mFalse\u001b[0m\u001b[0;34m,\u001b[0m \u001b[0;34mu'type'\u001b[0m\u001b[0;34m:\u001b[0m \u001b[0;34mu'bigint'\u001b[0m\u001b[0;34m,\u001b[0m \u001b[0;34mu'name'\u001b[0m\u001b[0;34m:\u001b[0m \u001b[0;34mu'GO X Coordinate'\u001b[0m\u001b[0;34m,\u001b[0m \u001b[0;34mu'maxLength'\u001b[0m\u001b[0;34m:\u001b[0m \u001b[0;34m-\u001b[0m\u001b[0;36m1\u001b[0m\u001b[0;34m}\u001b[0m\u001b[0;34m,\u001b[0m \u001b[0;34m{\u001b[0m\u001b[0;34mu'timestampNoTzAsDate'\u001b[0m\u001b[0;34m:\u001b[0m \u001b[0;32mFalse\u001b[0m\u001b[0;34m,\u001b[0m \u001b[0;34mu'type'\u001b[0m\u001b[0;34m:\u001b[0m \u001b[0;34mu'bigint'\u001b[0m\u001b[0;34m,\u001b[0m \u001b[0;34mu'name'\u001b[0m\u001b[0;34m:\u001b[0m \u001b[0;34mu'GO Y Coordinate'\u001b[0m\u001b[0;34m,\u001b[0m \u001b[0;34mu'maxLength'\u001b[0m\u001b[0;34m:\u001b[0m \u001b[0;34m-\u001b[0m\u001b[0;36m1\u001b[0m\u001b[0;34m}\u001b[0m\u001b[0;34m]\u001b[0m\u001b[0;34m}\u001b[0m\u001b[0;34m\u001b[0m\u001b[0m\n\u001b[1;32m      4\u001b[0m \u001b[0;34m\u001b[0m\u001b[0m\n\u001b[0;32m----> 5\u001b[0;31m \u001b[0mml_dataset_handle\u001b[0m \u001b[0;34m=\u001b[0m \u001b[0mdataiku\u001b[0m\u001b[0;34m.\u001b[0m\u001b[0mDataset\u001b[0m\u001b[0;34m(\u001b[0m\u001b[0;34m'2016_Annual_Crime_Data'\u001b[0m\u001b[0;34m)\u001b[0m\u001b[0;34m\u001b[0m\u001b[0m\n\u001b[0m\u001b[1;32m      6\u001b[0m \u001b[0mml_dataset_handle\u001b[0m\u001b[0;34m.\u001b[0m\u001b[0mset_preparation_steps\u001b[0m\u001b[0;34m(\u001b[0m\u001b[0mpreparation_steps\u001b[0m\u001b[0;34m,\u001b[0m \u001b[0mpreparation_output_schema\u001b[0m\u001b[0;34m)\u001b[0m\u001b[0;34m\u001b[0m\u001b[0m\n\u001b[1;32m      7\u001b[0m \u001b[0mget_ipython\u001b[0m\u001b[0;34m(\u001b[0m\u001b[0;34m)\u001b[0m\u001b[0;34m.\u001b[0m\u001b[0mrun_line_magic\u001b[0m\u001b[0;34m(\u001b[0m\u001b[0;34m'time'\u001b[0m\u001b[0;34m,\u001b[0m \u001b[0;34m'ml_dataset = ml_dataset_handle.get_dataframe(limit = 100000)'\u001b[0m\u001b[0;34m)\u001b[0m\u001b[0;34m\u001b[0m\u001b[0m\n",
      "\u001b[0;31mNameError\u001b[0m: name 'dataiku' is not defined"
     ]
    }
   ],
   "source": [
    "# We apply the preparation that you defined. You should not modify this.\n",
    "preparation_steps = []\n",
    "preparation_output_schema = {u'userModified': False, u'columns': [{u'timestampNoTzAsDate': False, u'type': u'bigint', u'name': u'GO Primary Key', u'maxLength': -1}, {u'timestampNoTzAsDate': False, u'type': u'bigint', u'name': u'Council District', u'maxLength': -1}, {u'timestampNoTzAsDate': False, u'type': u'string', u'name': u'GO Highest Offense Desc', u'maxLength': -1}, {u'timestampNoTzAsDate': False, u'type': u'string', u'name': u'Highest NIBRS/UCR Offense Description', u'maxLength': -1}, {u'timestampNoTzAsDate': False, u'type': u'string', u'name': u'GO Report Date', u'maxLength': -1}, {u'timestampNoTzAsDate': False, u'type': u'string', u'name': u'GO Location', u'maxLength': -1}, {u'timestampNoTzAsDate': False, u'downcastedToStringFromMeaning': u'Boolean', u'type': u'string', u'name': u'Clearance Status', u'maxLength': -1}, {u'timestampNoTzAsDate': False, u'type': u'string', u'name': u'Clearance Date', u'maxLength': -1}, {u'timestampNoTzAsDate': False, u'type': u'string', u'name': u'GO District', u'maxLength': -1}, {u'timestampNoTzAsDate': False, u'type': u'bigint', u'name': u'GO Location Zip', u'maxLength': -1}, {u'timestampNoTzAsDate': False, u'type': u'double', u'name': u'GO Census Tract', u'maxLength': -1}, {u'timestampNoTzAsDate': False, u'type': u'bigint', u'name': u'GO X Coordinate', u'maxLength': -1}, {u'timestampNoTzAsDate': False, u'type': u'bigint', u'name': u'GO Y Coordinate', u'maxLength': -1}]}\n",
    "\n",
    "ml_dataset_handle = dataiku.Dataset('2016_Annual_Crime_Data')\n",
    "ml_dataset_handle.set_preparation_steps(preparation_steps, preparation_output_schema)\n",
    "%time ml_dataset = ml_dataset_handle.get_dataframe(limit = 100000)\n",
    "\n",
    "print('Base data has %i rows and %i columns' % (ml_dataset.shape[0], ml_dataset.shape[1]))\n",
    "# Five first records\",\n",
    "ml_dataset.head(5)"
   ]
  },
  {
   "cell_type": "code",
   "execution_count": 6,
   "metadata": {},
   "outputs": [
    {
     "ename": "NameError",
     "evalue": "name 'ml_dataset' is not defined",
     "output_type": "error",
     "traceback": [
      "\u001b[0;31m---------------------------------------------------------------------------\u001b[0m",
      "\u001b[0;31mNameError\u001b[0m                                 Traceback (most recent call last)",
      "\u001b[0;32m<ipython-input-6-6f1a27d2c759>\u001b[0m in \u001b[0;36m<module>\u001b[0;34m()\u001b[0m\n\u001b[0;32m----> 1\u001b[0;31m \u001b[0mml_dataset\u001b[0m \u001b[0;34m=\u001b[0m \u001b[0mml_dataset\u001b[0m\u001b[0;34m[\u001b[0m\u001b[0;34m[\u001b[0m\u001b[0;34mu'GO Y Coordinate'\u001b[0m\u001b[0;34m,\u001b[0m \u001b[0;34mu'GO Location Zip'\u001b[0m\u001b[0;34m,\u001b[0m \u001b[0;34mu'GO Report Date'\u001b[0m\u001b[0;34m,\u001b[0m \u001b[0;34mu'GO X Coordinate'\u001b[0m\u001b[0;34m,\u001b[0m \u001b[0;34mu'Clearance Status'\u001b[0m\u001b[0;34m,\u001b[0m \u001b[0;34mu'GO Census Tract'\u001b[0m\u001b[0;34m,\u001b[0m \u001b[0;34mu'Clearance Date'\u001b[0m\u001b[0;34m,\u001b[0m \u001b[0;34mu'GO Primary Key'\u001b[0m\u001b[0;34m,\u001b[0m \u001b[0;34mu'Highest NIBRS/UCR Offense Description'\u001b[0m\u001b[0;34m,\u001b[0m \u001b[0;34mu'GO District'\u001b[0m\u001b[0;34m,\u001b[0m \u001b[0;34mu'Council District'\u001b[0m\u001b[0;34m,\u001b[0m \u001b[0;34mu'GO Highest Offense Desc'\u001b[0m\u001b[0;34m]\u001b[0m\u001b[0;34m]\u001b[0m\u001b[0;34m\u001b[0m\u001b[0m\n\u001b[0m",
      "\u001b[0;31mNameError\u001b[0m: name 'ml_dataset' is not defined"
     ]
    }
   ],
   "source": [
    "ml_dataset = ml_dataset[[u'GO Y Coordinate', u'GO Location Zip', u'GO Report Date', u'GO X Coordinate', u'Clearance Status', u'GO Census Tract', u'Clearance Date', u'GO Primary Key', u'Highest NIBRS/UCR Offense Description', u'GO District', u'Council District', u'GO Highest Offense Desc']]"
   ]
  },
  {
   "cell_type": "code",
   "execution_count": null,
   "metadata": {},
   "outputs": [],
   "source": []
  }
 ],
 "metadata": {
  "kernelspec": {
   "display_name": "Python 3",
   "language": "python",
   "name": "python3"
  },
  "language_info": {
   "codemirror_mode": {
    "name": "ipython",
    "version": 3
   },
   "file_extension": ".py",
   "mimetype": "text/x-python",
   "name": "python",
   "nbconvert_exporter": "python",
   "pygments_lexer": "ipython3",
   "version": "3.6.3"
  }
 },
 "nbformat": 4,
 "nbformat_minor": 2
}
