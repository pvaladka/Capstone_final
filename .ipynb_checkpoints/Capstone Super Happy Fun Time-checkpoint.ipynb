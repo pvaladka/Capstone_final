{
 "cells": [
  {
   "cell_type": "markdown",
   "metadata": {},
   "source": [
    "# Now we're going to have some fun!"
   ]
  },
  {
   "cell_type": "markdown",
   "metadata": {},
   "source": [
    "## predict based on month for theft and create viz for x and y go coordinate\n",
    "## theft binary classifier weekday/weekend (friday  to sunday) - for every instance of theft in df -- binary classifier for weekend/weekday "
   ]
  },
  {
   "cell_type": "markdown",
   "metadata": {},
   "source": [
    "## then roll to each type of theft for each weekday/weekend"
   ]
  },
  {
   "cell_type": "markdown",
   "metadata": {},
   "source": [
    "## assumption of # of specific crime sets for each specific day"
   ]
  },
  {
   "cell_type": "code",
   "execution_count": 155,
   "metadata": {},
   "outputs": [],
   "source": [
    "# importing some initial plotting tools\n",
    "import numpy as np\n",
    "import pandas as pd\n",
    "import matplotlib.pyplot as plt\n",
    "import seaborn as sns\n",
    "from sklearn.metrics import log_loss\n",
    "from sklearn import preprocessing\n",
    "from sklearn.naive_bayes import BernoulliNB\n",
    "from sklearn.linear_model import LogisticRegression\n",
    "from sklearn.cross_validation import train_test_split\n",
    "from sklearn.model_selection import GridSearchCV\n",
    "from sklearn import metrics \n",
    "from sklearn.metrics import classification_report\n",
    "from sklearn.preprocessing import StandardScaler\n",
    "from sklearn.linear_model import LogisticRegression, ElasticNet, ElasticNetCV, LassoCV, Ridge, RidgeCV\n",
    "# importing packages for running models\n",
    "from sklearn.linear_model import LinearRegression\n",
    "from sklearn.ensemble import AdaBoostClassifier, GradientBoostingClassifier, AdaBoostRegressor\n",
    "from sklearn.tree import DecisionTreeClassifier, DecisionTreeRegressor\n",
    "from sklearn.linear_model import LogisticRegression, ElasticNet, ElasticNetCV, LassoCV, Ridge, RidgeCV\n",
    "from sklearn.neighbors import KNeighborsClassifier\n",
    "from sklearn.svm import SVC \n",
    "from sklearn.model_selection import cross_val_score  \n",
    "\n",
    "from datetime import datetime\n",
    "from time import gmtime, strftime\n",
    "%matplotlib inline\n",
    "\n",
    "\n",
    "\n"
   ]
  },
  {
   "cell_type": "markdown",
   "metadata": {},
   "source": [
    "## STEPS:"
   ]
  },
  {
   "cell_type": "markdown",
   "metadata": {},
   "source": [
    "1) drop out columns except the crime, date, and district\n",
    "\n",
    "2) drop out everything except types of theft crimes \n",
    "\n",
    "3) then run binary classifier for weekday/weekend for theft\n",
    "\n",
    "4) then add in zip codes and other stuff to predict\n",
    "\n",
    "5) "
   ]
  },
  {
   "cell_type": "markdown",
   "metadata": {},
   "source": [
    "# STEP 1 : Importing "
   ]
  },
  {
   "cell_type": "code",
   "execution_count": null,
   "metadata": {},
   "outputs": [],
   "source": []
  },
  {
   "cell_type": "code",
   "execution_count": 4,
   "metadata": {},
   "outputs": [
    {
     "data": {
      "text/html": [
       "<div>\n",
       "<style scoped>\n",
       "    .dataframe tbody tr th:only-of-type {\n",
       "        vertical-align: middle;\n",
       "    }\n",
       "\n",
       "    .dataframe tbody tr th {\n",
       "        vertical-align: top;\n",
       "    }\n",
       "\n",
       "    .dataframe thead th {\n",
       "        text-align: right;\n",
       "    }\n",
       "</style>\n",
       "<table border=\"1\" class=\"dataframe\">\n",
       "  <thead>\n",
       "    <tr style=\"text-align: right;\">\n",
       "      <th></th>\n",
       "      <th>GO Primary Key</th>\n",
       "      <th>Council District</th>\n",
       "      <th>GO Highest Offense Desc</th>\n",
       "      <th>Highest NIBRS/UCR Offense Description</th>\n",
       "      <th>GO Report Date</th>\n",
       "      <th>GO Location</th>\n",
       "      <th>Clearance Status</th>\n",
       "      <th>Clearance Date</th>\n",
       "      <th>GO District</th>\n",
       "      <th>GO Location Zip</th>\n",
       "      <th>GO Census Tract</th>\n",
       "      <th>GO X Coordinate</th>\n",
       "      <th>GO Y Coordinate</th>\n",
       "    </tr>\n",
       "  </thead>\n",
       "  <tbody>\n",
       "    <tr>\n",
       "      <th>0</th>\n",
       "      <td>2.016102e+08</td>\n",
       "      <td>8.0</td>\n",
       "      <td>AGG ASLT ENHANC STRANGL/SUFFOC</td>\n",
       "      <td>Agg Assault</td>\n",
       "      <td>1-Jan-16</td>\n",
       "      <td>8600 W SH 71                                  ...</td>\n",
       "      <td>C</td>\n",
       "      <td>12-Jan-16</td>\n",
       "      <td>D</td>\n",
       "      <td>78735.0</td>\n",
       "      <td>19.08</td>\n",
       "      <td>3067322.0</td>\n",
       "      <td>10062796.0</td>\n",
       "    </tr>\n",
       "    <tr>\n",
       "      <th>1</th>\n",
       "      <td>2.016106e+08</td>\n",
       "      <td>9.0</td>\n",
       "      <td>THEFT</td>\n",
       "      <td>Theft</td>\n",
       "      <td>1-Jan-16</td>\n",
       "      <td>219 E 6TH ST                                  ...</td>\n",
       "      <td>C</td>\n",
       "      <td>4-Jan-16</td>\n",
       "      <td>G</td>\n",
       "      <td>78701.0</td>\n",
       "      <td>11.00</td>\n",
       "      <td>3114957.0</td>\n",
       "      <td>10070462.0</td>\n",
       "    </tr>\n",
       "    <tr>\n",
       "      <th>2</th>\n",
       "      <td>2.016109e+08</td>\n",
       "      <td>4.0</td>\n",
       "      <td>AGG ROBBERY/DEADLY WEAPON</td>\n",
       "      <td>Robbery</td>\n",
       "      <td>1-Jan-16</td>\n",
       "      <td>701 W LONGSPUR BLVD                           ...</td>\n",
       "      <td>N</td>\n",
       "      <td>3-May-16</td>\n",
       "      <td>E</td>\n",
       "      <td>78753.0</td>\n",
       "      <td>18.23</td>\n",
       "      <td>3129181.0</td>\n",
       "      <td>10106923.0</td>\n",
       "    </tr>\n",
       "    <tr>\n",
       "      <th>3</th>\n",
       "      <td>2.016109e+08</td>\n",
       "      <td>9.0</td>\n",
       "      <td>THEFT</td>\n",
       "      <td>Theft</td>\n",
       "      <td>1-Jan-16</td>\n",
       "      <td>404 COLORADO ST                               ...</td>\n",
       "      <td>N</td>\n",
       "      <td>22-Jan-16</td>\n",
       "      <td>G</td>\n",
       "      <td>78701.0</td>\n",
       "      <td>11.00</td>\n",
       "      <td>3113643.0</td>\n",
       "      <td>10070357.0</td>\n",
       "    </tr>\n",
       "    <tr>\n",
       "      <th>4</th>\n",
       "      <td>2.016110e+08</td>\n",
       "      <td>4.0</td>\n",
       "      <td>SEXUAL ASSAULT W/ OBJECT</td>\n",
       "      <td>Rape</td>\n",
       "      <td>1-Jan-16</td>\n",
       "      <td>NaN</td>\n",
       "      <td>C</td>\n",
       "      <td>10-Mar-16</td>\n",
       "      <td>E</td>\n",
       "      <td>78753.0</td>\n",
       "      <td>18.33</td>\n",
       "      <td>NaN</td>\n",
       "      <td>NaN</td>\n",
       "    </tr>\n",
       "    <tr>\n",
       "      <th>5</th>\n",
       "      <td>2.016111e+08</td>\n",
       "      <td>1.0</td>\n",
       "      <td>DEADLY CONDUCT</td>\n",
       "      <td>Agg Assault</td>\n",
       "      <td>1-Jan-16</td>\n",
       "      <td>8002 TAPO LN                                  ...</td>\n",
       "      <td>N</td>\n",
       "      <td>8-Jan-16</td>\n",
       "      <td>C</td>\n",
       "      <td>78724.0</td>\n",
       "      <td>22.08</td>\n",
       "      <td>3146947.0</td>\n",
       "      <td>10077985.0</td>\n",
       "    </tr>\n",
       "    <tr>\n",
       "      <th>6</th>\n",
       "      <td>2.016112e+08</td>\n",
       "      <td>3.0</td>\n",
       "      <td>ROBBERY BY ASSAULT</td>\n",
       "      <td>Robbery</td>\n",
       "      <td>1-Jan-16</td>\n",
       "      <td>1601 ROYAL CREST DR                           ...</td>\n",
       "      <td>N</td>\n",
       "      <td>1-Nov-16</td>\n",
       "      <td>H</td>\n",
       "      <td>78741.0</td>\n",
       "      <td>23.16</td>\n",
       "      <td>3118667.0</td>\n",
       "      <td>10060221.0</td>\n",
       "    </tr>\n",
       "    <tr>\n",
       "      <th>7</th>\n",
       "      <td>2.016112e+08</td>\n",
       "      <td>3.0</td>\n",
       "      <td>AGG ASSAULT FAM/DATE VIOLENCE</td>\n",
       "      <td>Agg Assault</td>\n",
       "      <td>1-Jan-16</td>\n",
       "      <td>1600 WICKERSHAM LN                            ...</td>\n",
       "      <td>C</td>\n",
       "      <td>1-Jan-16</td>\n",
       "      <td>H</td>\n",
       "      <td>78741.0</td>\n",
       "      <td>23.18</td>\n",
       "      <td>3122230.0</td>\n",
       "      <td>10059265.0</td>\n",
       "    </tr>\n",
       "    <tr>\n",
       "      <th>8</th>\n",
       "      <td>2.016112e+08</td>\n",
       "      <td>5.0</td>\n",
       "      <td>AGG ASLT STRANGLE/SUFFOCATE</td>\n",
       "      <td>Agg Assault</td>\n",
       "      <td>1-Jan-16</td>\n",
       "      <td>4009 VICTORY DR                               ...</td>\n",
       "      <td>C</td>\n",
       "      <td>3-Feb-16</td>\n",
       "      <td>D</td>\n",
       "      <td>78704.0</td>\n",
       "      <td>20.04</td>\n",
       "      <td>3099793.0</td>\n",
       "      <td>10058337.0</td>\n",
       "    </tr>\n",
       "    <tr>\n",
       "      <th>9</th>\n",
       "      <td>2.016112e+08</td>\n",
       "      <td>5.0</td>\n",
       "      <td>BURGLARY NON RESIDENCE</td>\n",
       "      <td>Burglary</td>\n",
       "      <td>1-Jan-16</td>\n",
       "      <td>811 W SLAUGHTER LN                            ...</td>\n",
       "      <td>N</td>\n",
       "      <td>4-Feb-16</td>\n",
       "      <td>F</td>\n",
       "      <td>78748.0</td>\n",
       "      <td>24.21</td>\n",
       "      <td>3095553.0</td>\n",
       "      <td>10035959.0</td>\n",
       "    </tr>\n",
       "    <tr>\n",
       "      <th>10</th>\n",
       "      <td>2.016113e+08</td>\n",
       "      <td>4.0</td>\n",
       "      <td>BURGLARY OF RESIDENCE</td>\n",
       "      <td>Burglary</td>\n",
       "      <td>1-Jan-16</td>\n",
       "      <td>8930 GALEWOOD DR                              ...</td>\n",
       "      <td>C</td>\n",
       "      <td>12-Feb-16</td>\n",
       "      <td>E</td>\n",
       "      <td>78758.0</td>\n",
       "      <td>18.20</td>\n",
       "      <td>3121931.0</td>\n",
       "      <td>10106738.0</td>\n",
       "    </tr>\n",
       "    <tr>\n",
       "      <th>11</th>\n",
       "      <td>2.016113e+08</td>\n",
       "      <td>4.0</td>\n",
       "      <td>AUTO THEFT</td>\n",
       "      <td>Auto Theft</td>\n",
       "      <td>1-Jan-16</td>\n",
       "      <td>9619 POINT VISTA PL                           ...</td>\n",
       "      <td>N</td>\n",
       "      <td>1-Jan-16</td>\n",
       "      <td>E</td>\n",
       "      <td>78753.0</td>\n",
       "      <td>18.33</td>\n",
       "      <td>3133869.0</td>\n",
       "      <td>10103524.0</td>\n",
       "    </tr>\n",
       "    <tr>\n",
       "      <th>12</th>\n",
       "      <td>2.016113e+08</td>\n",
       "      <td>2.0</td>\n",
       "      <td>AUTO THEFT</td>\n",
       "      <td>Auto Theft</td>\n",
       "      <td>1-Jan-16</td>\n",
       "      <td>4323 S IH 35 SVRD NB                          ...</td>\n",
       "      <td>N</td>\n",
       "      <td>1-Jan-16</td>\n",
       "      <td>F</td>\n",
       "      <td>78744.0</td>\n",
       "      <td>24.11</td>\n",
       "      <td>3111632.0</td>\n",
       "      <td>10050167.0</td>\n",
       "    </tr>\n",
       "    <tr>\n",
       "      <th>13</th>\n",
       "      <td>2.016113e+08</td>\n",
       "      <td>2.0</td>\n",
       "      <td>DEADLY CONDUCT</td>\n",
       "      <td>Agg Assault</td>\n",
       "      <td>1-Jan-16</td>\n",
       "      <td>5804 NEEDLE NOOK CT                           ...</td>\n",
       "      <td>N</td>\n",
       "      <td>4-Jan-16</td>\n",
       "      <td>F</td>\n",
       "      <td>78744.0</td>\n",
       "      <td>24.31</td>\n",
       "      <td>3115830.0</td>\n",
       "      <td>10042476.0</td>\n",
       "    </tr>\n",
       "    <tr>\n",
       "      <th>14</th>\n",
       "      <td>2.016113e+08</td>\n",
       "      <td>5.0</td>\n",
       "      <td>BURGLARY OF RESIDENCE</td>\n",
       "      <td>Burglary</td>\n",
       "      <td>1-Jan-16</td>\n",
       "      <td>10800 RIVER PLANTATION DR                     ...</td>\n",
       "      <td>N</td>\n",
       "      <td>5-Jan-16</td>\n",
       "      <td>F</td>\n",
       "      <td>78747.0</td>\n",
       "      <td>24.28</td>\n",
       "      <td>3102916.0</td>\n",
       "      <td>10023485.0</td>\n",
       "    </tr>\n",
       "    <tr>\n",
       "      <th>15</th>\n",
       "      <td>2.016113e+08</td>\n",
       "      <td>5.0</td>\n",
       "      <td>BURGLARY OF RESIDENCE</td>\n",
       "      <td>Burglary</td>\n",
       "      <td>1-Jan-16</td>\n",
       "      <td>9409 BERNOULLI DR                             ...</td>\n",
       "      <td>N</td>\n",
       "      <td>5-Jan-16</td>\n",
       "      <td>F</td>\n",
       "      <td>78748.0</td>\n",
       "      <td>17.46</td>\n",
       "      <td>3085304.0</td>\n",
       "      <td>10039671.0</td>\n",
       "    </tr>\n",
       "    <tr>\n",
       "      <th>16</th>\n",
       "      <td>2.016113e+08</td>\n",
       "      <td>9.0</td>\n",
       "      <td>AGG ASLT STRANGLE/SUFFOCATE</td>\n",
       "      <td>Agg Assault</td>\n",
       "      <td>1-Jan-16</td>\n",
       "      <td>1100 E OLTORF ST                              ...</td>\n",
       "      <td>N</td>\n",
       "      <td>6-Jan-16</td>\n",
       "      <td>H</td>\n",
       "      <td>78704.0</td>\n",
       "      <td>23.08</td>\n",
       "      <td>3113907.0</td>\n",
       "      <td>10059041.0</td>\n",
       "    </tr>\n",
       "    <tr>\n",
       "      <th>17</th>\n",
       "      <td>2.016114e+08</td>\n",
       "      <td>7.0</td>\n",
       "      <td>AGG ASSAULT FAM/DATE VIOLENCE</td>\n",
       "      <td>Agg Assault</td>\n",
       "      <td>1-Jan-16</td>\n",
       "      <td>5515 WOODROW AVE                              ...</td>\n",
       "      <td>N</td>\n",
       "      <td>20-Jan-16</td>\n",
       "      <td>I</td>\n",
       "      <td>78756.0</td>\n",
       "      <td>2.05</td>\n",
       "      <td>3116795.0</td>\n",
       "      <td>10092335.0</td>\n",
       "    </tr>\n",
       "    <tr>\n",
       "      <th>18</th>\n",
       "      <td>2.016114e+08</td>\n",
       "      <td>9.0</td>\n",
       "      <td>RAPE</td>\n",
       "      <td>Rape</td>\n",
       "      <td>1-Jan-16</td>\n",
       "      <td>NaN</td>\n",
       "      <td>N</td>\n",
       "      <td>16-Feb-16</td>\n",
       "      <td>B</td>\n",
       "      <td>78751.0</td>\n",
       "      <td>2.03</td>\n",
       "      <td>NaN</td>\n",
       "      <td>NaN</td>\n",
       "    </tr>\n",
       "    <tr>\n",
       "      <th>19</th>\n",
       "      <td>2.016114e+08</td>\n",
       "      <td>6.0</td>\n",
       "      <td>BURGLARY OF RESIDENCE</td>\n",
       "      <td>Burglary</td>\n",
       "      <td>1-Jan-16</td>\n",
       "      <td>4400 ANDALUSIA DR                             ...</td>\n",
       "      <td>C</td>\n",
       "      <td>20-Apr-16</td>\n",
       "      <td>A</td>\n",
       "      <td>78759.0</td>\n",
       "      <td>17.54</td>\n",
       "      <td>3114668.0</td>\n",
       "      <td>10121066.0</td>\n",
       "    </tr>\n",
       "    <tr>\n",
       "      <th>20</th>\n",
       "      <td>2.016114e+08</td>\n",
       "      <td>9.0</td>\n",
       "      <td>BURGLARY OF RESIDENCE</td>\n",
       "      <td>Burglary</td>\n",
       "      <td>1-Jan-16</td>\n",
       "      <td>2338 WILSON ST                                ...</td>\n",
       "      <td>N</td>\n",
       "      <td>5-Jan-16</td>\n",
       "      <td>D</td>\n",
       "      <td>78704.0</td>\n",
       "      <td>13.05</td>\n",
       "      <td>3110158.0</td>\n",
       "      <td>10060953.0</td>\n",
       "    </tr>\n",
       "    <tr>\n",
       "      <th>21</th>\n",
       "      <td>2.016114e+08</td>\n",
       "      <td>9.0</td>\n",
       "      <td>BURGLARY OF RESIDENCE</td>\n",
       "      <td>Burglary</td>\n",
       "      <td>1-Jan-16</td>\n",
       "      <td>2041 ZACH SCOTT ST                            ...</td>\n",
       "      <td>N</td>\n",
       "      <td>5-Jan-16</td>\n",
       "      <td>B</td>\n",
       "      <td>78723.0</td>\n",
       "      <td>3.06</td>\n",
       "      <td>3126322.0</td>\n",
       "      <td>10080484.0</td>\n",
       "    </tr>\n",
       "    <tr>\n",
       "      <th>22</th>\n",
       "      <td>2.016114e+08</td>\n",
       "      <td>9.0</td>\n",
       "      <td>BURGLARY NON RESIDENCE</td>\n",
       "      <td>Burglary</td>\n",
       "      <td>1-Jan-16</td>\n",
       "      <td>323 E 6TH ST                                  ...</td>\n",
       "      <td>N</td>\n",
       "      <td>21-Jan-16</td>\n",
       "      <td>G</td>\n",
       "      <td>78701.0</td>\n",
       "      <td>11.00</td>\n",
       "      <td>3115326.0</td>\n",
       "      <td>10070387.0</td>\n",
       "    </tr>\n",
       "    <tr>\n",
       "      <th>23</th>\n",
       "      <td>2.016114e+08</td>\n",
       "      <td>4.0</td>\n",
       "      <td>SEXUAL ASSAULT W/ OBJECT</td>\n",
       "      <td>Rape</td>\n",
       "      <td>1-Jan-16</td>\n",
       "      <td>NaN</td>\n",
       "      <td>C</td>\n",
       "      <td>2-Jan-16</td>\n",
       "      <td>I</td>\n",
       "      <td>78752.0</td>\n",
       "      <td>15.03</td>\n",
       "      <td>NaN</td>\n",
       "      <td>NaN</td>\n",
       "    </tr>\n",
       "    <tr>\n",
       "      <th>24</th>\n",
       "      <td>2.016114e+08</td>\n",
       "      <td>5.0</td>\n",
       "      <td>BURGLARY OF RESIDENCE</td>\n",
       "      <td>Burglary</td>\n",
       "      <td>1-Jan-16</td>\n",
       "      <td>1119 ECHO LN                                  ...</td>\n",
       "      <td>N</td>\n",
       "      <td>5-Jan-16</td>\n",
       "      <td>F</td>\n",
       "      <td>78745.0</td>\n",
       "      <td>24.24</td>\n",
       "      <td>3097863.0</td>\n",
       "      <td>10045181.0</td>\n",
       "    </tr>\n",
       "    <tr>\n",
       "      <th>25</th>\n",
       "      <td>2.016115e+08</td>\n",
       "      <td>5.0</td>\n",
       "      <td>BURGLARY NON RESIDENCE</td>\n",
       "      <td>Burglary</td>\n",
       "      <td>1-Jan-16</td>\n",
       "      <td>10140 OLD SAN ANTONIO RD                      ...</td>\n",
       "      <td>N</td>\n",
       "      <td>5-Feb-16</td>\n",
       "      <td>F</td>\n",
       "      <td>78748.0</td>\n",
       "      <td>24.07</td>\n",
       "      <td>3098369.0</td>\n",
       "      <td>10028961.0</td>\n",
       "    </tr>\n",
       "    <tr>\n",
       "      <th>26</th>\n",
       "      <td>2.016115e+08</td>\n",
       "      <td>3.0</td>\n",
       "      <td>BURGLARY NON RESIDENCE</td>\n",
       "      <td>Burglary</td>\n",
       "      <td>1-Jan-16</td>\n",
       "      <td>903 MONTOPOLIS DR                             ...</td>\n",
       "      <td>N</td>\n",
       "      <td>1-Mar-16</td>\n",
       "      <td>H</td>\n",
       "      <td>78741.0</td>\n",
       "      <td>23.12</td>\n",
       "      <td>3129173.0</td>\n",
       "      <td>10059178.0</td>\n",
       "    </tr>\n",
       "    <tr>\n",
       "      <th>27</th>\n",
       "      <td>2.016116e+08</td>\n",
       "      <td>8.0</td>\n",
       "      <td>BURGLARY NON RESIDENCE</td>\n",
       "      <td>Burglary</td>\n",
       "      <td>1-Jan-16</td>\n",
       "      <td>5100 ROADRUNNER LN                            ...</td>\n",
       "      <td>N</td>\n",
       "      <td>5-Feb-16</td>\n",
       "      <td>D</td>\n",
       "      <td>78749.0</td>\n",
       "      <td>17.49</td>\n",
       "      <td>3086212.0</td>\n",
       "      <td>10058406.0</td>\n",
       "    </tr>\n",
       "    <tr>\n",
       "      <th>28</th>\n",
       "      <td>2.016116e+08</td>\n",
       "      <td>9.0</td>\n",
       "      <td>BURGLARY OF VEHICLE</td>\n",
       "      <td>Theft</td>\n",
       "      <td>1-Jan-16</td>\n",
       "      <td>119 E 10TH ST                                 ...</td>\n",
       "      <td>N</td>\n",
       "      <td>14-Jan-16</td>\n",
       "      <td>G</td>\n",
       "      <td>78701.0</td>\n",
       "      <td>11.00</td>\n",
       "      <td>3115057.0</td>\n",
       "      <td>10071995.0</td>\n",
       "    </tr>\n",
       "    <tr>\n",
       "      <th>29</th>\n",
       "      <td>2.016116e+08</td>\n",
       "      <td>7.0</td>\n",
       "      <td>THEFT BY SHOPLIFTING</td>\n",
       "      <td>Theft</td>\n",
       "      <td>1-Jan-16</td>\n",
       "      <td>3311 ESPERANZA XING                           ...</td>\n",
       "      <td>N</td>\n",
       "      <td>14-Jan-16</td>\n",
       "      <td>A</td>\n",
       "      <td>78758.0</td>\n",
       "      <td>18.49</td>\n",
       "      <td>3118197.0</td>\n",
       "      <td>10118869.0</td>\n",
       "    </tr>\n",
       "    <tr>\n",
       "      <th>30</th>\n",
       "      <td>2.016117e+08</td>\n",
       "      <td>2.0</td>\n",
       "      <td>BURGLARY OF VEHICLE</td>\n",
       "      <td>Theft</td>\n",
       "      <td>1-Jan-16</td>\n",
       "      <td>4749 E BEN WHITE BLVD SVRD EB                 ...</td>\n",
       "      <td>N</td>\n",
       "      <td>2-Jan-16</td>\n",
       "      <td>F</td>\n",
       "      <td>78744.0</td>\n",
       "      <td>24.31</td>\n",
       "      <td>3118931.0</td>\n",
       "      <td>10051193.0</td>\n",
       "    </tr>\n",
       "    <tr>\n",
       "      <th>31</th>\n",
       "      <td>2.016117e+08</td>\n",
       "      <td>5.0</td>\n",
       "      <td>THEFT</td>\n",
       "      <td>Theft</td>\n",
       "      <td>1-Jan-16</td>\n",
       "      <td>9300 S IH 35 SVRD SB                          ...</td>\n",
       "      <td>C</td>\n",
       "      <td>16-Feb-16</td>\n",
       "      <td>F</td>\n",
       "      <td>78748.0</td>\n",
       "      <td>24.21</td>\n",
       "      <td>3100423.0</td>\n",
       "      <td>10033116.0</td>\n",
       "    </tr>\n",
       "    <tr>\n",
       "      <th>32</th>\n",
       "      <td>2.016117e+08</td>\n",
       "      <td>2.0</td>\n",
       "      <td>AUTO THEFT</td>\n",
       "      <td>Auto Theft</td>\n",
       "      <td>1-Jan-16</td>\n",
       "      <td>5200 BERYL OAK DR                             ...</td>\n",
       "      <td>C</td>\n",
       "      <td>2-Jan-16</td>\n",
       "      <td>F</td>\n",
       "      <td>78744.0</td>\n",
       "      <td>24.31</td>\n",
       "      <td>3116496.0</td>\n",
       "      <td>10043740.0</td>\n",
       "    </tr>\n",
       "    <tr>\n",
       "      <th>33</th>\n",
       "      <td>2.016118e+08</td>\n",
       "      <td>3.0</td>\n",
       "      <td>BURGLARY OF RESIDENCE</td>\n",
       "      <td>Burglary</td>\n",
       "      <td>1-Jan-16</td>\n",
       "      <td>5313 HARVEST LN                               ...</td>\n",
       "      <td>N</td>\n",
       "      <td>5-Jan-16</td>\n",
       "      <td>D</td>\n",
       "      <td>78745.0</td>\n",
       "      <td>24.02</td>\n",
       "      <td>3103835.0</td>\n",
       "      <td>10049115.0</td>\n",
       "    </tr>\n",
       "    <tr>\n",
       "      <th>34</th>\n",
       "      <td>2.016118e+08</td>\n",
       "      <td>9.0</td>\n",
       "      <td>BURGLARY OF VEHICLE</td>\n",
       "      <td>Theft</td>\n",
       "      <td>1-Jan-16</td>\n",
       "      <td>1000 E 41ST ST                                ...</td>\n",
       "      <td>C</td>\n",
       "      <td>2-Jan-16</td>\n",
       "      <td>B</td>\n",
       "      <td>78751.0</td>\n",
       "      <td>3.02</td>\n",
       "      <td>3121345.0</td>\n",
       "      <td>10082705.0</td>\n",
       "    </tr>\n",
       "    <tr>\n",
       "      <th>35</th>\n",
       "      <td>2.016118e+08</td>\n",
       "      <td>5.0</td>\n",
       "      <td>THEFT BY SHOPLIFTING</td>\n",
       "      <td>Theft</td>\n",
       "      <td>1-Jan-16</td>\n",
       "      <td>9500 S IH 35 SVRD SB                          ...</td>\n",
       "      <td>C</td>\n",
       "      <td>17-Feb-16</td>\n",
       "      <td>F</td>\n",
       "      <td>78748.0</td>\n",
       "      <td>24.21</td>\n",
       "      <td>3099459.0</td>\n",
       "      <td>10032098.0</td>\n",
       "    </tr>\n",
       "    <tr>\n",
       "      <th>36</th>\n",
       "      <td>2.016118e+08</td>\n",
       "      <td>5.0</td>\n",
       "      <td>THEFT</td>\n",
       "      <td>Theft</td>\n",
       "      <td>1-Jan-16</td>\n",
       "      <td>9300 S IH 35 SVRD SB                          ...</td>\n",
       "      <td>N</td>\n",
       "      <td>6-Jan-16</td>\n",
       "      <td>F</td>\n",
       "      <td>78748.0</td>\n",
       "      <td>24.21</td>\n",
       "      <td>3100423.0</td>\n",
       "      <td>10033116.0</td>\n",
       "    </tr>\n",
       "    <tr>\n",
       "      <th>37</th>\n",
       "      <td>2.016119e+08</td>\n",
       "      <td>2.0</td>\n",
       "      <td>BURGLARY OF RESIDENCE</td>\n",
       "      <td>Burglary</td>\n",
       "      <td>1-Jan-16</td>\n",
       "      <td>7600 LADYBUG ST                               ...</td>\n",
       "      <td>N</td>\n",
       "      <td>5-Jan-16</td>\n",
       "      <td>F</td>\n",
       "      <td>78744.0</td>\n",
       "      <td>24.30</td>\n",
       "      <td>3112534.0</td>\n",
       "      <td>10034514.0</td>\n",
       "    </tr>\n",
       "    <tr>\n",
       "      <th>38</th>\n",
       "      <td>2.016119e+08</td>\n",
       "      <td>4.0</td>\n",
       "      <td>AUTO THEFT</td>\n",
       "      <td>Auto Theft</td>\n",
       "      <td>1-Jan-16</td>\n",
       "      <td>702 LAMAR PL                                  ...</td>\n",
       "      <td>N</td>\n",
       "      <td>2-Jan-16</td>\n",
       "      <td>I</td>\n",
       "      <td>78752.0</td>\n",
       "      <td>15.03</td>\n",
       "      <td>3120451.0</td>\n",
       "      <td>10093970.0</td>\n",
       "    </tr>\n",
       "    <tr>\n",
       "      <th>39</th>\n",
       "      <td>2.016121e+08</td>\n",
       "      <td>4.0</td>\n",
       "      <td>AGG ASSAULT FAM/DATE VIOLENCE</td>\n",
       "      <td>Agg Assault</td>\n",
       "      <td>1-Jan-16</td>\n",
       "      <td>7020 GRAND CANYON DR                          ...</td>\n",
       "      <td>C</td>\n",
       "      <td>12-Jan-16</td>\n",
       "      <td>I</td>\n",
       "      <td>78752.0</td>\n",
       "      <td>18.12</td>\n",
       "      <td>3128790.0</td>\n",
       "      <td>10092240.0</td>\n",
       "    </tr>\n",
       "    <tr>\n",
       "      <th>40</th>\n",
       "      <td>2.016122e+08</td>\n",
       "      <td>1.0</td>\n",
       "      <td>BURGLARY OF RESIDENCE</td>\n",
       "      <td>Burglary</td>\n",
       "      <td>1-Jan-16</td>\n",
       "      <td>1901 E ANDERSON LN SVRD EB                    ...</td>\n",
       "      <td>N</td>\n",
       "      <td>5-Jan-16</td>\n",
       "      <td>I</td>\n",
       "      <td>78752.0</td>\n",
       "      <td>18.11</td>\n",
       "      <td>3134623.0</td>\n",
       "      <td>10092808.0</td>\n",
       "    </tr>\n",
       "    <tr>\n",
       "      <th>41</th>\n",
       "      <td>2.016122e+08</td>\n",
       "      <td>9.0</td>\n",
       "      <td>THEFT</td>\n",
       "      <td>Theft</td>\n",
       "      <td>1-Jan-16</td>\n",
       "      <td>214 E 6TH ST                                  ...</td>\n",
       "      <td>C</td>\n",
       "      <td>4-Jan-16</td>\n",
       "      <td>G</td>\n",
       "      <td>78701.0</td>\n",
       "      <td>11.00</td>\n",
       "      <td>3115019.0</td>\n",
       "      <td>10070660.0</td>\n",
       "    </tr>\n",
       "    <tr>\n",
       "      <th>42</th>\n",
       "      <td>2.016123e+08</td>\n",
       "      <td>5.0</td>\n",
       "      <td>THEFT</td>\n",
       "      <td>Theft</td>\n",
       "      <td>1-Jan-16</td>\n",
       "      <td>9300 S IH 35 SVRD SB                          ...</td>\n",
       "      <td>C</td>\n",
       "      <td>1-Jan-16</td>\n",
       "      <td>F</td>\n",
       "      <td>78748.0</td>\n",
       "      <td>24.21</td>\n",
       "      <td>3100423.0</td>\n",
       "      <td>10033116.0</td>\n",
       "    </tr>\n",
       "    <tr>\n",
       "      <th>43</th>\n",
       "      <td>2.016123e+08</td>\n",
       "      <td>10.0</td>\n",
       "      <td>AGG ASLT W/MOTOR VEH FAM/DAT V</td>\n",
       "      <td>Agg Assault</td>\n",
       "      <td>1-Jan-16</td>\n",
       "      <td>7032 WOOD HOLLOW DR                           ...</td>\n",
       "      <td>C</td>\n",
       "      <td>6-Jan-16</td>\n",
       "      <td>B</td>\n",
       "      <td>78731.0</td>\n",
       "      <td>17.18</td>\n",
       "      <td>3109999.0</td>\n",
       "      <td>10101357.0</td>\n",
       "    </tr>\n",
       "    <tr>\n",
       "      <th>44</th>\n",
       "      <td>2.016124e+08</td>\n",
       "      <td>4.0</td>\n",
       "      <td>AUTO THEFT</td>\n",
       "      <td>Auto Theft</td>\n",
       "      <td>1-Jan-16</td>\n",
       "      <td>5820 BERKMAN DR                               ...</td>\n",
       "      <td>C</td>\n",
       "      <td>2-Jan-16</td>\n",
       "      <td>I</td>\n",
       "      <td>78723.0</td>\n",
       "      <td>21.04</td>\n",
       "      <td>3129456.0</td>\n",
       "      <td>10087425.0</td>\n",
       "    </tr>\n",
       "    <tr>\n",
       "      <th>45</th>\n",
       "      <td>2.016126e+08</td>\n",
       "      <td>4.0</td>\n",
       "      <td>THEFT BY SHOPLIFTING</td>\n",
       "      <td>Theft</td>\n",
       "      <td>1-Jan-16</td>\n",
       "      <td>1030 NORWOOD PARK BLVD                        ...</td>\n",
       "      <td>C</td>\n",
       "      <td>2-Jan-16</td>\n",
       "      <td>I</td>\n",
       "      <td>78753.0</td>\n",
       "      <td>18.13</td>\n",
       "      <td>3129997.0</td>\n",
       "      <td>10096983.0</td>\n",
       "    </tr>\n",
       "    <tr>\n",
       "      <th>46</th>\n",
       "      <td>2.016500e+10</td>\n",
       "      <td>7.0</td>\n",
       "      <td>THEFT OF LICENSE PLATE</td>\n",
       "      <td>Theft</td>\n",
       "      <td>1-Jan-16</td>\n",
       "      <td>12166 METRIC BLVD                             ...</td>\n",
       "      <td>N</td>\n",
       "      <td>1-Jan-16</td>\n",
       "      <td>A</td>\n",
       "      <td>78758.0</td>\n",
       "      <td>18.50</td>\n",
       "      <td>3127301.0</td>\n",
       "      <td>10121525.0</td>\n",
       "    </tr>\n",
       "    <tr>\n",
       "      <th>47</th>\n",
       "      <td>2.016500e+10</td>\n",
       "      <td>4.0</td>\n",
       "      <td>BURGLARY OF VEHICLE</td>\n",
       "      <td>Theft</td>\n",
       "      <td>1-Jan-16</td>\n",
       "      <td>1201 CLOVERLEAF DR                            ...</td>\n",
       "      <td>N</td>\n",
       "      <td>14-Jan-16</td>\n",
       "      <td>I</td>\n",
       "      <td>78723.0</td>\n",
       "      <td>21.04</td>\n",
       "      <td>3126104.0</td>\n",
       "      <td>10087499.0</td>\n",
       "    </tr>\n",
       "    <tr>\n",
       "      <th>48</th>\n",
       "      <td>2.016500e+10</td>\n",
       "      <td>9.0</td>\n",
       "      <td>THEFT</td>\n",
       "      <td>Theft</td>\n",
       "      <td>1-Jan-16</td>\n",
       "      <td>W 4TH ST / COLORADO ST                        ...</td>\n",
       "      <td>N</td>\n",
       "      <td>13-Jan-16</td>\n",
       "      <td>G</td>\n",
       "      <td>78701.0</td>\n",
       "      <td>11.00</td>\n",
       "      <td>3113692.0</td>\n",
       "      <td>10070194.0</td>\n",
       "    </tr>\n",
       "    <tr>\n",
       "      <th>49</th>\n",
       "      <td>2.016500e+10</td>\n",
       "      <td>4.0</td>\n",
       "      <td>THEFT</td>\n",
       "      <td>Theft</td>\n",
       "      <td>1-Jan-16</td>\n",
       "      <td>8010 N IH 35 SVRD SB                          ...</td>\n",
       "      <td>N</td>\n",
       "      <td>27-Jan-16</td>\n",
       "      <td>E</td>\n",
       "      <td>78753.0</td>\n",
       "      <td>18.04</td>\n",
       "      <td>3127447.0</td>\n",
       "      <td>10098323.0</td>\n",
       "    </tr>\n",
       "  </tbody>\n",
       "</table>\n",
       "</div>"
      ],
      "text/plain": [
       "    GO Primary Key  Council District         GO Highest Offense Desc  \\\n",
       "0     2.016102e+08               8.0  AGG ASLT ENHANC STRANGL/SUFFOC   \n",
       "1     2.016106e+08               9.0  THEFT                            \n",
       "2     2.016109e+08               4.0  AGG ROBBERY/DEADLY WEAPON        \n",
       "3     2.016109e+08               9.0  THEFT                            \n",
       "4     2.016110e+08               4.0  SEXUAL ASSAULT W/ OBJECT         \n",
       "5     2.016111e+08               1.0  DEADLY CONDUCT                   \n",
       "6     2.016112e+08               3.0  ROBBERY BY ASSAULT               \n",
       "7     2.016112e+08               3.0  AGG ASSAULT FAM/DATE VIOLENCE    \n",
       "8     2.016112e+08               5.0  AGG ASLT STRANGLE/SUFFOCATE      \n",
       "9     2.016112e+08               5.0  BURGLARY NON RESIDENCE           \n",
       "10    2.016113e+08               4.0  BURGLARY OF RESIDENCE            \n",
       "11    2.016113e+08               4.0  AUTO THEFT                       \n",
       "12    2.016113e+08               2.0  AUTO THEFT                       \n",
       "13    2.016113e+08               2.0  DEADLY CONDUCT                   \n",
       "14    2.016113e+08               5.0  BURGLARY OF RESIDENCE            \n",
       "15    2.016113e+08               5.0  BURGLARY OF RESIDENCE            \n",
       "16    2.016113e+08               9.0  AGG ASLT STRANGLE/SUFFOCATE      \n",
       "17    2.016114e+08               7.0  AGG ASSAULT FAM/DATE VIOLENCE    \n",
       "18    2.016114e+08               9.0  RAPE                             \n",
       "19    2.016114e+08               6.0  BURGLARY OF RESIDENCE            \n",
       "20    2.016114e+08               9.0  BURGLARY OF RESIDENCE            \n",
       "21    2.016114e+08               9.0  BURGLARY OF RESIDENCE            \n",
       "22    2.016114e+08               9.0  BURGLARY NON RESIDENCE           \n",
       "23    2.016114e+08               4.0  SEXUAL ASSAULT W/ OBJECT         \n",
       "24    2.016114e+08               5.0  BURGLARY OF RESIDENCE            \n",
       "25    2.016115e+08               5.0  BURGLARY NON RESIDENCE           \n",
       "26    2.016115e+08               3.0  BURGLARY NON RESIDENCE           \n",
       "27    2.016116e+08               8.0  BURGLARY NON RESIDENCE           \n",
       "28    2.016116e+08               9.0  BURGLARY OF VEHICLE              \n",
       "29    2.016116e+08               7.0  THEFT BY SHOPLIFTING             \n",
       "30    2.016117e+08               2.0  BURGLARY OF VEHICLE              \n",
       "31    2.016117e+08               5.0  THEFT                            \n",
       "32    2.016117e+08               2.0  AUTO THEFT                       \n",
       "33    2.016118e+08               3.0  BURGLARY OF RESIDENCE            \n",
       "34    2.016118e+08               9.0  BURGLARY OF VEHICLE              \n",
       "35    2.016118e+08               5.0  THEFT BY SHOPLIFTING             \n",
       "36    2.016118e+08               5.0  THEFT                            \n",
       "37    2.016119e+08               2.0  BURGLARY OF RESIDENCE            \n",
       "38    2.016119e+08               4.0  AUTO THEFT                       \n",
       "39    2.016121e+08               4.0  AGG ASSAULT FAM/DATE VIOLENCE    \n",
       "40    2.016122e+08               1.0  BURGLARY OF RESIDENCE            \n",
       "41    2.016122e+08               9.0  THEFT                            \n",
       "42    2.016123e+08               5.0  THEFT                            \n",
       "43    2.016123e+08              10.0  AGG ASLT W/MOTOR VEH FAM/DAT V   \n",
       "44    2.016124e+08               4.0  AUTO THEFT                       \n",
       "45    2.016126e+08               4.0  THEFT BY SHOPLIFTING             \n",
       "46    2.016500e+10               7.0  THEFT OF LICENSE PLATE           \n",
       "47    2.016500e+10               4.0  BURGLARY OF VEHICLE              \n",
       "48    2.016500e+10               9.0  THEFT                            \n",
       "49    2.016500e+10               4.0  THEFT                            \n",
       "\n",
       "   Highest NIBRS/UCR Offense Description GO Report Date  \\\n",
       "0                            Agg Assault       1-Jan-16   \n",
       "1                                  Theft       1-Jan-16   \n",
       "2                                Robbery       1-Jan-16   \n",
       "3                                  Theft       1-Jan-16   \n",
       "4                                   Rape       1-Jan-16   \n",
       "5                            Agg Assault       1-Jan-16   \n",
       "6                                Robbery       1-Jan-16   \n",
       "7                            Agg Assault       1-Jan-16   \n",
       "8                            Agg Assault       1-Jan-16   \n",
       "9                               Burglary       1-Jan-16   \n",
       "10                              Burglary       1-Jan-16   \n",
       "11                            Auto Theft       1-Jan-16   \n",
       "12                            Auto Theft       1-Jan-16   \n",
       "13                           Agg Assault       1-Jan-16   \n",
       "14                              Burglary       1-Jan-16   \n",
       "15                              Burglary       1-Jan-16   \n",
       "16                           Agg Assault       1-Jan-16   \n",
       "17                           Agg Assault       1-Jan-16   \n",
       "18                                  Rape       1-Jan-16   \n",
       "19                              Burglary       1-Jan-16   \n",
       "20                              Burglary       1-Jan-16   \n",
       "21                              Burglary       1-Jan-16   \n",
       "22                              Burglary       1-Jan-16   \n",
       "23                                  Rape       1-Jan-16   \n",
       "24                              Burglary       1-Jan-16   \n",
       "25                              Burglary       1-Jan-16   \n",
       "26                              Burglary       1-Jan-16   \n",
       "27                              Burglary       1-Jan-16   \n",
       "28                                 Theft       1-Jan-16   \n",
       "29                                 Theft       1-Jan-16   \n",
       "30                                 Theft       1-Jan-16   \n",
       "31                                 Theft       1-Jan-16   \n",
       "32                            Auto Theft       1-Jan-16   \n",
       "33                              Burglary       1-Jan-16   \n",
       "34                                 Theft       1-Jan-16   \n",
       "35                                 Theft       1-Jan-16   \n",
       "36                                 Theft       1-Jan-16   \n",
       "37                              Burglary       1-Jan-16   \n",
       "38                            Auto Theft       1-Jan-16   \n",
       "39                           Agg Assault       1-Jan-16   \n",
       "40                              Burglary       1-Jan-16   \n",
       "41                                 Theft       1-Jan-16   \n",
       "42                                 Theft       1-Jan-16   \n",
       "43                           Agg Assault       1-Jan-16   \n",
       "44                            Auto Theft       1-Jan-16   \n",
       "45                                 Theft       1-Jan-16   \n",
       "46                                 Theft       1-Jan-16   \n",
       "47                                 Theft       1-Jan-16   \n",
       "48                                 Theft       1-Jan-16   \n",
       "49                                 Theft       1-Jan-16   \n",
       "\n",
       "                                          GO Location Clearance Status  \\\n",
       "0   8600 W SH 71                                  ...                C   \n",
       "1   219 E 6TH ST                                  ...                C   \n",
       "2   701 W LONGSPUR BLVD                           ...                N   \n",
       "3   404 COLORADO ST                               ...                N   \n",
       "4                                                 NaN                C   \n",
       "5   8002 TAPO LN                                  ...                N   \n",
       "6   1601 ROYAL CREST DR                           ...                N   \n",
       "7   1600 WICKERSHAM LN                            ...                C   \n",
       "8   4009 VICTORY DR                               ...                C   \n",
       "9   811 W SLAUGHTER LN                            ...                N   \n",
       "10  8930 GALEWOOD DR                              ...                C   \n",
       "11  9619 POINT VISTA PL                           ...                N   \n",
       "12  4323 S IH 35 SVRD NB                          ...                N   \n",
       "13  5804 NEEDLE NOOK CT                           ...                N   \n",
       "14  10800 RIVER PLANTATION DR                     ...                N   \n",
       "15  9409 BERNOULLI DR                             ...                N   \n",
       "16  1100 E OLTORF ST                              ...                N   \n",
       "17  5515 WOODROW AVE                              ...                N   \n",
       "18                                                NaN                N   \n",
       "19  4400 ANDALUSIA DR                             ...                C   \n",
       "20  2338 WILSON ST                                ...                N   \n",
       "21  2041 ZACH SCOTT ST                            ...                N   \n",
       "22  323 E 6TH ST                                  ...                N   \n",
       "23                                                NaN                C   \n",
       "24  1119 ECHO LN                                  ...                N   \n",
       "25  10140 OLD SAN ANTONIO RD                      ...                N   \n",
       "26  903 MONTOPOLIS DR                             ...                N   \n",
       "27  5100 ROADRUNNER LN                            ...                N   \n",
       "28  119 E 10TH ST                                 ...                N   \n",
       "29  3311 ESPERANZA XING                           ...                N   \n",
       "30  4749 E BEN WHITE BLVD SVRD EB                 ...                N   \n",
       "31  9300 S IH 35 SVRD SB                          ...                C   \n",
       "32  5200 BERYL OAK DR                             ...                C   \n",
       "33  5313 HARVEST LN                               ...                N   \n",
       "34  1000 E 41ST ST                                ...                C   \n",
       "35  9500 S IH 35 SVRD SB                          ...                C   \n",
       "36  9300 S IH 35 SVRD SB                          ...                N   \n",
       "37  7600 LADYBUG ST                               ...                N   \n",
       "38  702 LAMAR PL                                  ...                N   \n",
       "39  7020 GRAND CANYON DR                          ...                C   \n",
       "40  1901 E ANDERSON LN SVRD EB                    ...                N   \n",
       "41  214 E 6TH ST                                  ...                C   \n",
       "42  9300 S IH 35 SVRD SB                          ...                C   \n",
       "43  7032 WOOD HOLLOW DR                           ...                C   \n",
       "44  5820 BERKMAN DR                               ...                C   \n",
       "45  1030 NORWOOD PARK BLVD                        ...                C   \n",
       "46  12166 METRIC BLVD                             ...                N   \n",
       "47  1201 CLOVERLEAF DR                            ...                N   \n",
       "48  W 4TH ST / COLORADO ST                        ...                N   \n",
       "49  8010 N IH 35 SVRD SB                          ...                N   \n",
       "\n",
       "   Clearance Date GO District  GO Location Zip  GO Census Tract  \\\n",
       "0       12-Jan-16           D          78735.0            19.08   \n",
       "1        4-Jan-16           G          78701.0            11.00   \n",
       "2        3-May-16           E          78753.0            18.23   \n",
       "3       22-Jan-16           G          78701.0            11.00   \n",
       "4       10-Mar-16           E          78753.0            18.33   \n",
       "5        8-Jan-16           C          78724.0            22.08   \n",
       "6        1-Nov-16           H          78741.0            23.16   \n",
       "7        1-Jan-16           H          78741.0            23.18   \n",
       "8        3-Feb-16           D          78704.0            20.04   \n",
       "9        4-Feb-16           F          78748.0            24.21   \n",
       "10      12-Feb-16           E          78758.0            18.20   \n",
       "11       1-Jan-16           E          78753.0            18.33   \n",
       "12       1-Jan-16           F          78744.0            24.11   \n",
       "13       4-Jan-16           F          78744.0            24.31   \n",
       "14       5-Jan-16           F          78747.0            24.28   \n",
       "15       5-Jan-16           F          78748.0            17.46   \n",
       "16       6-Jan-16           H          78704.0            23.08   \n",
       "17      20-Jan-16           I          78756.0             2.05   \n",
       "18      16-Feb-16           B          78751.0             2.03   \n",
       "19      20-Apr-16           A          78759.0            17.54   \n",
       "20       5-Jan-16           D          78704.0            13.05   \n",
       "21       5-Jan-16           B          78723.0             3.06   \n",
       "22      21-Jan-16           G          78701.0            11.00   \n",
       "23       2-Jan-16           I          78752.0            15.03   \n",
       "24       5-Jan-16           F          78745.0            24.24   \n",
       "25       5-Feb-16           F          78748.0            24.07   \n",
       "26       1-Mar-16           H          78741.0            23.12   \n",
       "27       5-Feb-16           D          78749.0            17.49   \n",
       "28      14-Jan-16           G          78701.0            11.00   \n",
       "29      14-Jan-16           A          78758.0            18.49   \n",
       "30       2-Jan-16           F          78744.0            24.31   \n",
       "31      16-Feb-16           F          78748.0            24.21   \n",
       "32       2-Jan-16           F          78744.0            24.31   \n",
       "33       5-Jan-16           D          78745.0            24.02   \n",
       "34       2-Jan-16           B          78751.0             3.02   \n",
       "35      17-Feb-16           F          78748.0            24.21   \n",
       "36       6-Jan-16           F          78748.0            24.21   \n",
       "37       5-Jan-16           F          78744.0            24.30   \n",
       "38       2-Jan-16           I          78752.0            15.03   \n",
       "39      12-Jan-16           I          78752.0            18.12   \n",
       "40       5-Jan-16           I          78752.0            18.11   \n",
       "41       4-Jan-16           G          78701.0            11.00   \n",
       "42       1-Jan-16           F          78748.0            24.21   \n",
       "43       6-Jan-16           B          78731.0            17.18   \n",
       "44       2-Jan-16           I          78723.0            21.04   \n",
       "45       2-Jan-16           I          78753.0            18.13   \n",
       "46       1-Jan-16           A          78758.0            18.50   \n",
       "47      14-Jan-16           I          78723.0            21.04   \n",
       "48      13-Jan-16           G          78701.0            11.00   \n",
       "49      27-Jan-16           E          78753.0            18.04   \n",
       "\n",
       "    GO X Coordinate  GO Y Coordinate  \n",
       "0         3067322.0       10062796.0  \n",
       "1         3114957.0       10070462.0  \n",
       "2         3129181.0       10106923.0  \n",
       "3         3113643.0       10070357.0  \n",
       "4               NaN              NaN  \n",
       "5         3146947.0       10077985.0  \n",
       "6         3118667.0       10060221.0  \n",
       "7         3122230.0       10059265.0  \n",
       "8         3099793.0       10058337.0  \n",
       "9         3095553.0       10035959.0  \n",
       "10        3121931.0       10106738.0  \n",
       "11        3133869.0       10103524.0  \n",
       "12        3111632.0       10050167.0  \n",
       "13        3115830.0       10042476.0  \n",
       "14        3102916.0       10023485.0  \n",
       "15        3085304.0       10039671.0  \n",
       "16        3113907.0       10059041.0  \n",
       "17        3116795.0       10092335.0  \n",
       "18              NaN              NaN  \n",
       "19        3114668.0       10121066.0  \n",
       "20        3110158.0       10060953.0  \n",
       "21        3126322.0       10080484.0  \n",
       "22        3115326.0       10070387.0  \n",
       "23              NaN              NaN  \n",
       "24        3097863.0       10045181.0  \n",
       "25        3098369.0       10028961.0  \n",
       "26        3129173.0       10059178.0  \n",
       "27        3086212.0       10058406.0  \n",
       "28        3115057.0       10071995.0  \n",
       "29        3118197.0       10118869.0  \n",
       "30        3118931.0       10051193.0  \n",
       "31        3100423.0       10033116.0  \n",
       "32        3116496.0       10043740.0  \n",
       "33        3103835.0       10049115.0  \n",
       "34        3121345.0       10082705.0  \n",
       "35        3099459.0       10032098.0  \n",
       "36        3100423.0       10033116.0  \n",
       "37        3112534.0       10034514.0  \n",
       "38        3120451.0       10093970.0  \n",
       "39        3128790.0       10092240.0  \n",
       "40        3134623.0       10092808.0  \n",
       "41        3115019.0       10070660.0  \n",
       "42        3100423.0       10033116.0  \n",
       "43        3109999.0       10101357.0  \n",
       "44        3129456.0       10087425.0  \n",
       "45        3129997.0       10096983.0  \n",
       "46        3127301.0       10121525.0  \n",
       "47        3126104.0       10087499.0  \n",
       "48        3113692.0       10070194.0  \n",
       "49        3127447.0       10098323.0  "
      ]
     },
     "execution_count": 4,
     "metadata": {},
     "output_type": "execute_result"
    }
   ],
   "source": [
    "# importing dataset\n",
    "# chose this dataset vs the other because it was more complete in terms of location, crime, and offenses\n",
    "df = pd.read_csv('./2016_Annual_Crime_Data.csv')\n",
    "df.head(50)"
   ]
  },
  {
   "cell_type": "code",
   "execution_count": 5,
   "metadata": {},
   "outputs": [
    {
     "data": {
      "text/plain": [
       "Index(['GO Primary Key', 'Council District', 'GO Highest Offense Desc',\n",
       "       'Highest NIBRS/UCR Offense Description', 'GO Report Date',\n",
       "       'GO Location', 'Clearance Status', 'Clearance Date', 'GO District',\n",
       "       'GO Location Zip', 'GO Census Tract', 'GO X Coordinate',\n",
       "       'GO Y Coordinate'],\n",
       "      dtype='object')"
      ]
     },
     "execution_count": 5,
     "metadata": {},
     "output_type": "execute_result"
    }
   ],
   "source": [
    "df.columns"
   ]
  },
  {
   "cell_type": "markdown",
   "metadata": {},
   "source": [
    "# STEP 2: Cleaning"
   ]
  },
  {
   "cell_type": "code",
   "execution_count": 6,
   "metadata": {},
   "outputs": [],
   "source": [
    "df.drop(['GO Primary Key','GO Highest Offense Desc','GO Location', 'Clearance Status', \n",
    "         'Clearance Date', 'GO District','GO Census Tract', 'GO X Coordinate','GO Y Coordinate'\n",
    "        ], axis = 1, inplace = True)\n",
    "\n",
    "#df = pd.DataFrame(df[['Council District', 'Highest NIBRS/UCR Offense Description', \n",
    "#                               'GO Report Date','GO Location Zip']])"
   ]
  },
  {
   "cell_type": "code",
   "execution_count": 7,
   "metadata": {},
   "outputs": [
    {
     "data": {
      "text/html": [
       "<div>\n",
       "<style scoped>\n",
       "    .dataframe tbody tr th:only-of-type {\n",
       "        vertical-align: middle;\n",
       "    }\n",
       "\n",
       "    .dataframe tbody tr th {\n",
       "        vertical-align: top;\n",
       "    }\n",
       "\n",
       "    .dataframe thead th {\n",
       "        text-align: right;\n",
       "    }\n",
       "</style>\n",
       "<table border=\"1\" class=\"dataframe\">\n",
       "  <thead>\n",
       "    <tr style=\"text-align: right;\">\n",
       "      <th></th>\n",
       "      <th>Council District</th>\n",
       "      <th>Highest NIBRS/UCR Offense Description</th>\n",
       "      <th>GO Report Date</th>\n",
       "      <th>GO Location Zip</th>\n",
       "    </tr>\n",
       "  </thead>\n",
       "  <tbody>\n",
       "    <tr>\n",
       "      <th>0</th>\n",
       "      <td>8.0</td>\n",
       "      <td>Agg Assault</td>\n",
       "      <td>1-Jan-16</td>\n",
       "      <td>78735.0</td>\n",
       "    </tr>\n",
       "    <tr>\n",
       "      <th>1</th>\n",
       "      <td>9.0</td>\n",
       "      <td>Theft</td>\n",
       "      <td>1-Jan-16</td>\n",
       "      <td>78701.0</td>\n",
       "    </tr>\n",
       "    <tr>\n",
       "      <th>2</th>\n",
       "      <td>4.0</td>\n",
       "      <td>Robbery</td>\n",
       "      <td>1-Jan-16</td>\n",
       "      <td>78753.0</td>\n",
       "    </tr>\n",
       "    <tr>\n",
       "      <th>3</th>\n",
       "      <td>9.0</td>\n",
       "      <td>Theft</td>\n",
       "      <td>1-Jan-16</td>\n",
       "      <td>78701.0</td>\n",
       "    </tr>\n",
       "    <tr>\n",
       "      <th>4</th>\n",
       "      <td>4.0</td>\n",
       "      <td>Rape</td>\n",
       "      <td>1-Jan-16</td>\n",
       "      <td>78753.0</td>\n",
       "    </tr>\n",
       "  </tbody>\n",
       "</table>\n",
       "</div>"
      ],
      "text/plain": [
       "   Council District Highest NIBRS/UCR Offense Description GO Report Date  \\\n",
       "0               8.0                           Agg Assault       1-Jan-16   \n",
       "1               9.0                                 Theft       1-Jan-16   \n",
       "2               4.0                               Robbery       1-Jan-16   \n",
       "3               9.0                                 Theft       1-Jan-16   \n",
       "4               4.0                                  Rape       1-Jan-16   \n",
       "\n",
       "   GO Location Zip  \n",
       "0          78735.0  \n",
       "1          78701.0  \n",
       "2          78753.0  \n",
       "3          78701.0  \n",
       "4          78753.0  "
      ]
     },
     "execution_count": 7,
     "metadata": {},
     "output_type": "execute_result"
    }
   ],
   "source": [
    "df.head()"
   ]
  },
  {
   "cell_type": "code",
   "execution_count": 8,
   "metadata": {},
   "outputs": [],
   "source": [
    "df['weekday'] = pd.DatetimeIndex(df['GO Report Date']).dayofweek"
   ]
  },
  {
   "cell_type": "code",
   "execution_count": 9,
   "metadata": {},
   "outputs": [],
   "source": [
    "df[\"Month\"]=df[\"GO Report Date\"].map(lambda x: x.split(\"-\")[1])"
   ]
  },
  {
   "cell_type": "code",
   "execution_count": 10,
   "metadata": {},
   "outputs": [
    {
     "data": {
      "text/html": [
       "<div>\n",
       "<style scoped>\n",
       "    .dataframe tbody tr th:only-of-type {\n",
       "        vertical-align: middle;\n",
       "    }\n",
       "\n",
       "    .dataframe tbody tr th {\n",
       "        vertical-align: top;\n",
       "    }\n",
       "\n",
       "    .dataframe thead th {\n",
       "        text-align: right;\n",
       "    }\n",
       "</style>\n",
       "<table border=\"1\" class=\"dataframe\">\n",
       "  <thead>\n",
       "    <tr style=\"text-align: right;\">\n",
       "      <th></th>\n",
       "      <th>Council District</th>\n",
       "      <th>Highest NIBRS/UCR Offense Description</th>\n",
       "      <th>GO Report Date</th>\n",
       "      <th>GO Location Zip</th>\n",
       "      <th>weekday</th>\n",
       "      <th>Month</th>\n",
       "    </tr>\n",
       "  </thead>\n",
       "  <tbody>\n",
       "    <tr>\n",
       "      <th>0</th>\n",
       "      <td>8.0</td>\n",
       "      <td>Agg Assault</td>\n",
       "      <td>1-Jan-16</td>\n",
       "      <td>78735.0</td>\n",
       "      <td>4</td>\n",
       "      <td>Jan</td>\n",
       "    </tr>\n",
       "    <tr>\n",
       "      <th>1</th>\n",
       "      <td>9.0</td>\n",
       "      <td>Theft</td>\n",
       "      <td>1-Jan-16</td>\n",
       "      <td>78701.0</td>\n",
       "      <td>4</td>\n",
       "      <td>Jan</td>\n",
       "    </tr>\n",
       "    <tr>\n",
       "      <th>2</th>\n",
       "      <td>4.0</td>\n",
       "      <td>Robbery</td>\n",
       "      <td>1-Jan-16</td>\n",
       "      <td>78753.0</td>\n",
       "      <td>4</td>\n",
       "      <td>Jan</td>\n",
       "    </tr>\n",
       "    <tr>\n",
       "      <th>3</th>\n",
       "      <td>9.0</td>\n",
       "      <td>Theft</td>\n",
       "      <td>1-Jan-16</td>\n",
       "      <td>78701.0</td>\n",
       "      <td>4</td>\n",
       "      <td>Jan</td>\n",
       "    </tr>\n",
       "    <tr>\n",
       "      <th>4</th>\n",
       "      <td>4.0</td>\n",
       "      <td>Rape</td>\n",
       "      <td>1-Jan-16</td>\n",
       "      <td>78753.0</td>\n",
       "      <td>4</td>\n",
       "      <td>Jan</td>\n",
       "    </tr>\n",
       "  </tbody>\n",
       "</table>\n",
       "</div>"
      ],
      "text/plain": [
       "   Council District Highest NIBRS/UCR Offense Description GO Report Date  \\\n",
       "0               8.0                           Agg Assault       1-Jan-16   \n",
       "1               9.0                                 Theft       1-Jan-16   \n",
       "2               4.0                               Robbery       1-Jan-16   \n",
       "3               9.0                                 Theft       1-Jan-16   \n",
       "4               4.0                                  Rape       1-Jan-16   \n",
       "\n",
       "   GO Location Zip  weekday Month  \n",
       "0          78735.0        4   Jan  \n",
       "1          78701.0        4   Jan  \n",
       "2          78753.0        4   Jan  \n",
       "3          78701.0        4   Jan  \n",
       "4          78753.0        4   Jan  "
      ]
     },
     "execution_count": 10,
     "metadata": {},
     "output_type": "execute_result"
    }
   ],
   "source": [
    "df.head()"
   ]
  },
  {
   "cell_type": "markdown",
   "metadata": {},
   "source": [
    "## removing null values"
   ]
  },
  {
   "cell_type": "code",
   "execution_count": 11,
   "metadata": {},
   "outputs": [
    {
     "data": {
      "text/plain": [
       "Council District                         256\n",
       "Highest NIBRS/UCR Offense Description      0\n",
       "GO Report Date                             0\n",
       "GO Location Zip                          167\n",
       "weekday                                    0\n",
       "Month                                      0\n",
       "dtype: int64"
      ]
     },
     "execution_count": 11,
     "metadata": {},
     "output_type": "execute_result"
    }
   ],
   "source": [
    "# checking out null values of columns\n",
    "df.isnull().sum()\n"
   ]
  },
  {
   "cell_type": "code",
   "execution_count": 12,
   "metadata": {},
   "outputs": [],
   "source": [
    "# drop the na values from Zip\n",
    "#df.dropna(subset = ['column_name'])\n",
    "df.dropna(subset = ['GO Location Zip'],how='all', inplace = True)"
   ]
  },
  {
   "cell_type": "code",
   "execution_count": 13,
   "metadata": {},
   "outputs": [],
   "source": [
    "# drop the na values from Council district\n",
    "#df.dropna(subset = ['column_name'])\n",
    "df.dropna(subset = ['Council District'],how='all', inplace = True)"
   ]
  },
  {
   "cell_type": "code",
   "execution_count": 14,
   "metadata": {},
   "outputs": [],
   "source": [
    "# transforming the zip location\n",
    "df['GO Location Zip'] =  df['GO Location Zip'].astype('int32')"
   ]
  },
  {
   "cell_type": "code",
   "execution_count": 15,
   "metadata": {},
   "outputs": [],
   "source": [
    "# transforming the zip location\n",
    "df['Council District'] =  df['Council District'].astype('int32')"
   ]
  },
  {
   "cell_type": "code",
   "execution_count": 16,
   "metadata": {},
   "outputs": [
    {
     "data": {
      "text/html": [
       "<div>\n",
       "<style scoped>\n",
       "    .dataframe tbody tr th:only-of-type {\n",
       "        vertical-align: middle;\n",
       "    }\n",
       "\n",
       "    .dataframe tbody tr th {\n",
       "        vertical-align: top;\n",
       "    }\n",
       "\n",
       "    .dataframe thead th {\n",
       "        text-align: right;\n",
       "    }\n",
       "</style>\n",
       "<table border=\"1\" class=\"dataframe\">\n",
       "  <thead>\n",
       "    <tr style=\"text-align: right;\">\n",
       "      <th></th>\n",
       "      <th>Council District</th>\n",
       "      <th>Highest NIBRS/UCR Offense Description</th>\n",
       "      <th>GO Report Date</th>\n",
       "      <th>GO Location Zip</th>\n",
       "      <th>weekday</th>\n",
       "      <th>Month</th>\n",
       "    </tr>\n",
       "  </thead>\n",
       "  <tbody>\n",
       "    <tr>\n",
       "      <th>0</th>\n",
       "      <td>8</td>\n",
       "      <td>Agg Assault</td>\n",
       "      <td>1-Jan-16</td>\n",
       "      <td>78735</td>\n",
       "      <td>4</td>\n",
       "      <td>Jan</td>\n",
       "    </tr>\n",
       "    <tr>\n",
       "      <th>1</th>\n",
       "      <td>9</td>\n",
       "      <td>Theft</td>\n",
       "      <td>1-Jan-16</td>\n",
       "      <td>78701</td>\n",
       "      <td>4</td>\n",
       "      <td>Jan</td>\n",
       "    </tr>\n",
       "    <tr>\n",
       "      <th>2</th>\n",
       "      <td>4</td>\n",
       "      <td>Robbery</td>\n",
       "      <td>1-Jan-16</td>\n",
       "      <td>78753</td>\n",
       "      <td>4</td>\n",
       "      <td>Jan</td>\n",
       "    </tr>\n",
       "    <tr>\n",
       "      <th>3</th>\n",
       "      <td>9</td>\n",
       "      <td>Theft</td>\n",
       "      <td>1-Jan-16</td>\n",
       "      <td>78701</td>\n",
       "      <td>4</td>\n",
       "      <td>Jan</td>\n",
       "    </tr>\n",
       "    <tr>\n",
       "      <th>4</th>\n",
       "      <td>4</td>\n",
       "      <td>Rape</td>\n",
       "      <td>1-Jan-16</td>\n",
       "      <td>78753</td>\n",
       "      <td>4</td>\n",
       "      <td>Jan</td>\n",
       "    </tr>\n",
       "  </tbody>\n",
       "</table>\n",
       "</div>"
      ],
      "text/plain": [
       "   Council District Highest NIBRS/UCR Offense Description GO Report Date  \\\n",
       "0                 8                           Agg Assault       1-Jan-16   \n",
       "1                 9                                 Theft       1-Jan-16   \n",
       "2                 4                               Robbery       1-Jan-16   \n",
       "3                 9                                 Theft       1-Jan-16   \n",
       "4                 4                                  Rape       1-Jan-16   \n",
       "\n",
       "   GO Location Zip  weekday Month  \n",
       "0            78735        4   Jan  \n",
       "1            78701        4   Jan  \n",
       "2            78753        4   Jan  \n",
       "3            78701        4   Jan  \n",
       "4            78753        4   Jan  "
      ]
     },
     "execution_count": 16,
     "metadata": {},
     "output_type": "execute_result"
    }
   ],
   "source": [
    "df.head()"
   ]
  },
  {
   "cell_type": "code",
   "execution_count": 17,
   "metadata": {},
   "outputs": [],
   "source": [
    "df_crime = pd.get_dummies(df['Highest NIBRS/UCR Offense Description'])"
   ]
  },
  {
   "cell_type": "code",
   "execution_count": 18,
   "metadata": {},
   "outputs": [],
   "source": [
    "df = pd.concat([df, df_crime],axis=1)"
   ]
  },
  {
   "cell_type": "code",
   "execution_count": 19,
   "metadata": {},
   "outputs": [
    {
     "data": {
      "text/html": [
       "<div>\n",
       "<style scoped>\n",
       "    .dataframe tbody tr th:only-of-type {\n",
       "        vertical-align: middle;\n",
       "    }\n",
       "\n",
       "    .dataframe tbody tr th {\n",
       "        vertical-align: top;\n",
       "    }\n",
       "\n",
       "    .dataframe thead th {\n",
       "        text-align: right;\n",
       "    }\n",
       "</style>\n",
       "<table border=\"1\" class=\"dataframe\">\n",
       "  <thead>\n",
       "    <tr style=\"text-align: right;\">\n",
       "      <th></th>\n",
       "      <th>Council District</th>\n",
       "      <th>Highest NIBRS/UCR Offense Description</th>\n",
       "      <th>GO Report Date</th>\n",
       "      <th>GO Location Zip</th>\n",
       "      <th>weekday</th>\n",
       "      <th>Month</th>\n",
       "      <th>Agg Assault</th>\n",
       "      <th>Auto Theft</th>\n",
       "      <th>Burglary</th>\n",
       "      <th>Murder</th>\n",
       "      <th>Rape</th>\n",
       "      <th>Robbery</th>\n",
       "      <th>Theft</th>\n",
       "    </tr>\n",
       "  </thead>\n",
       "  <tbody>\n",
       "    <tr>\n",
       "      <th>0</th>\n",
       "      <td>8</td>\n",
       "      <td>Agg Assault</td>\n",
       "      <td>1-Jan-16</td>\n",
       "      <td>78735</td>\n",
       "      <td>4</td>\n",
       "      <td>Jan</td>\n",
       "      <td>1</td>\n",
       "      <td>0</td>\n",
       "      <td>0</td>\n",
       "      <td>0</td>\n",
       "      <td>0</td>\n",
       "      <td>0</td>\n",
       "      <td>0</td>\n",
       "    </tr>\n",
       "    <tr>\n",
       "      <th>1</th>\n",
       "      <td>9</td>\n",
       "      <td>Theft</td>\n",
       "      <td>1-Jan-16</td>\n",
       "      <td>78701</td>\n",
       "      <td>4</td>\n",
       "      <td>Jan</td>\n",
       "      <td>0</td>\n",
       "      <td>0</td>\n",
       "      <td>0</td>\n",
       "      <td>0</td>\n",
       "      <td>0</td>\n",
       "      <td>0</td>\n",
       "      <td>1</td>\n",
       "    </tr>\n",
       "    <tr>\n",
       "      <th>2</th>\n",
       "      <td>4</td>\n",
       "      <td>Robbery</td>\n",
       "      <td>1-Jan-16</td>\n",
       "      <td>78753</td>\n",
       "      <td>4</td>\n",
       "      <td>Jan</td>\n",
       "      <td>0</td>\n",
       "      <td>0</td>\n",
       "      <td>0</td>\n",
       "      <td>0</td>\n",
       "      <td>0</td>\n",
       "      <td>1</td>\n",
       "      <td>0</td>\n",
       "    </tr>\n",
       "    <tr>\n",
       "      <th>3</th>\n",
       "      <td>9</td>\n",
       "      <td>Theft</td>\n",
       "      <td>1-Jan-16</td>\n",
       "      <td>78701</td>\n",
       "      <td>4</td>\n",
       "      <td>Jan</td>\n",
       "      <td>0</td>\n",
       "      <td>0</td>\n",
       "      <td>0</td>\n",
       "      <td>0</td>\n",
       "      <td>0</td>\n",
       "      <td>0</td>\n",
       "      <td>1</td>\n",
       "    </tr>\n",
       "    <tr>\n",
       "      <th>4</th>\n",
       "      <td>4</td>\n",
       "      <td>Rape</td>\n",
       "      <td>1-Jan-16</td>\n",
       "      <td>78753</td>\n",
       "      <td>4</td>\n",
       "      <td>Jan</td>\n",
       "      <td>0</td>\n",
       "      <td>0</td>\n",
       "      <td>0</td>\n",
       "      <td>0</td>\n",
       "      <td>1</td>\n",
       "      <td>0</td>\n",
       "      <td>0</td>\n",
       "    </tr>\n",
       "  </tbody>\n",
       "</table>\n",
       "</div>"
      ],
      "text/plain": [
       "   Council District Highest NIBRS/UCR Offense Description GO Report Date  \\\n",
       "0                 8                           Agg Assault       1-Jan-16   \n",
       "1                 9                                 Theft       1-Jan-16   \n",
       "2                 4                               Robbery       1-Jan-16   \n",
       "3                 9                                 Theft       1-Jan-16   \n",
       "4                 4                                  Rape       1-Jan-16   \n",
       "\n",
       "   GO Location Zip  weekday Month  Agg Assault  Auto Theft  Burglary  Murder  \\\n",
       "0            78735        4   Jan            1           0         0       0   \n",
       "1            78701        4   Jan            0           0         0       0   \n",
       "2            78753        4   Jan            0           0         0       0   \n",
       "3            78701        4   Jan            0           0         0       0   \n",
       "4            78753        4   Jan            0           0         0       0   \n",
       "\n",
       "   Rape  Robbery  Theft  \n",
       "0     0        0      0  \n",
       "1     0        0      1  \n",
       "2     0        1      0  \n",
       "3     0        0      1  \n",
       "4     1        0      0  "
      ]
     },
     "execution_count": 19,
     "metadata": {},
     "output_type": "execute_result"
    }
   ],
   "source": [
    "df.head()"
   ]
  },
  {
   "cell_type": "code",
   "execution_count": 20,
   "metadata": {},
   "outputs": [],
   "source": [
    "# creating binary to guess if crime will occur on weekend \n",
    "df['weekend'] = df.weekday.apply(lambda x: 1 if x > 4 else 0)"
   ]
  },
  {
   "cell_type": "code",
   "execution_count": 21,
   "metadata": {},
   "outputs": [
    {
     "data": {
      "text/html": [
       "<div>\n",
       "<style scoped>\n",
       "    .dataframe tbody tr th:only-of-type {\n",
       "        vertical-align: middle;\n",
       "    }\n",
       "\n",
       "    .dataframe tbody tr th {\n",
       "        vertical-align: top;\n",
       "    }\n",
       "\n",
       "    .dataframe thead th {\n",
       "        text-align: right;\n",
       "    }\n",
       "</style>\n",
       "<table border=\"1\" class=\"dataframe\">\n",
       "  <thead>\n",
       "    <tr style=\"text-align: right;\">\n",
       "      <th></th>\n",
       "      <th>Council District</th>\n",
       "      <th>Highest NIBRS/UCR Offense Description</th>\n",
       "      <th>GO Report Date</th>\n",
       "      <th>GO Location Zip</th>\n",
       "      <th>weekday</th>\n",
       "      <th>Month</th>\n",
       "      <th>Agg Assault</th>\n",
       "      <th>Auto Theft</th>\n",
       "      <th>Burglary</th>\n",
       "      <th>Murder</th>\n",
       "      <th>Rape</th>\n",
       "      <th>Robbery</th>\n",
       "      <th>Theft</th>\n",
       "      <th>weekend</th>\n",
       "    </tr>\n",
       "  </thead>\n",
       "  <tbody>\n",
       "    <tr>\n",
       "      <th>37456</th>\n",
       "      <td>7</td>\n",
       "      <td>Theft</td>\n",
       "      <td>31-Dec-16</td>\n",
       "      <td>78757</td>\n",
       "      <td>5</td>\n",
       "      <td>Dec</td>\n",
       "      <td>0</td>\n",
       "      <td>0</td>\n",
       "      <td>0</td>\n",
       "      <td>0</td>\n",
       "      <td>0</td>\n",
       "      <td>0</td>\n",
       "      <td>1</td>\n",
       "      <td>1</td>\n",
       "    </tr>\n",
       "    <tr>\n",
       "      <th>37457</th>\n",
       "      <td>9</td>\n",
       "      <td>Theft</td>\n",
       "      <td>31-Dec-16</td>\n",
       "      <td>78701</td>\n",
       "      <td>5</td>\n",
       "      <td>Dec</td>\n",
       "      <td>0</td>\n",
       "      <td>0</td>\n",
       "      <td>0</td>\n",
       "      <td>0</td>\n",
       "      <td>0</td>\n",
       "      <td>0</td>\n",
       "      <td>1</td>\n",
       "      <td>1</td>\n",
       "    </tr>\n",
       "    <tr>\n",
       "      <th>37458</th>\n",
       "      <td>1</td>\n",
       "      <td>Theft</td>\n",
       "      <td>31-Dec-16</td>\n",
       "      <td>78723</td>\n",
       "      <td>5</td>\n",
       "      <td>Dec</td>\n",
       "      <td>0</td>\n",
       "      <td>0</td>\n",
       "      <td>0</td>\n",
       "      <td>0</td>\n",
       "      <td>0</td>\n",
       "      <td>0</td>\n",
       "      <td>1</td>\n",
       "      <td>1</td>\n",
       "    </tr>\n",
       "    <tr>\n",
       "      <th>37459</th>\n",
       "      <td>3</td>\n",
       "      <td>Theft</td>\n",
       "      <td>31-Dec-16</td>\n",
       "      <td>78742</td>\n",
       "      <td>5</td>\n",
       "      <td>Dec</td>\n",
       "      <td>0</td>\n",
       "      <td>0</td>\n",
       "      <td>0</td>\n",
       "      <td>0</td>\n",
       "      <td>0</td>\n",
       "      <td>0</td>\n",
       "      <td>1</td>\n",
       "      <td>1</td>\n",
       "    </tr>\n",
       "    <tr>\n",
       "      <th>37460</th>\n",
       "      <td>9</td>\n",
       "      <td>Theft</td>\n",
       "      <td>31-Dec-16</td>\n",
       "      <td>78705</td>\n",
       "      <td>5</td>\n",
       "      <td>Dec</td>\n",
       "      <td>0</td>\n",
       "      <td>0</td>\n",
       "      <td>0</td>\n",
       "      <td>0</td>\n",
       "      <td>0</td>\n",
       "      <td>0</td>\n",
       "      <td>1</td>\n",
       "      <td>1</td>\n",
       "    </tr>\n",
       "  </tbody>\n",
       "</table>\n",
       "</div>"
      ],
      "text/plain": [
       "       Council District Highest NIBRS/UCR Offense Description GO Report Date  \\\n",
       "37456                 7                                 Theft      31-Dec-16   \n",
       "37457                 9                                 Theft      31-Dec-16   \n",
       "37458                 1                                 Theft      31-Dec-16   \n",
       "37459                 3                                 Theft      31-Dec-16   \n",
       "37460                 9                                 Theft      31-Dec-16   \n",
       "\n",
       "       GO Location Zip  weekday Month  Agg Assault  Auto Theft  Burglary  \\\n",
       "37456            78757        5   Dec            0           0         0   \n",
       "37457            78701        5   Dec            0           0         0   \n",
       "37458            78723        5   Dec            0           0         0   \n",
       "37459            78742        5   Dec            0           0         0   \n",
       "37460            78705        5   Dec            0           0         0   \n",
       "\n",
       "       Murder  Rape  Robbery  Theft  weekend  \n",
       "37456       0     0        0      1        1  \n",
       "37457       0     0        0      1        1  \n",
       "37458       0     0        0      1        1  \n",
       "37459       0     0        0      1        1  \n",
       "37460       0     0        0      1        1  "
      ]
     },
     "execution_count": 21,
     "metadata": {},
     "output_type": "execute_result"
    }
   ],
   "source": [
    "df.tail()"
   ]
  },
  {
   "cell_type": "code",
   "execution_count": null,
   "metadata": {},
   "outputs": [],
   "source": [
    "look_up = {'Jan':'01','Feb':'02', 'Mar':'03', 'Apr':'04', 'May':'05',\n",
    "            'Jun':'06', 'Jul':'07', 'Aug':'08','Sep':'09', 'Oct':'10','Nov':'11','Dec':'12'}\n",
    "\n",
    "df['Month'] = df['Month'].apply(lambda x: look_up[x])"
   ]
  },
  {
   "cell_type": "markdown",
   "metadata": {},
   "source": [
    "# STEP 3: EDA"
   ]
  },
  {
   "cell_type": "code",
   "execution_count": 23,
   "metadata": {},
   "outputs": [
    {
     "data": {
      "text/plain": [
       "3     5933\n",
       "9     5895\n",
       "4     5245\n",
       "7     4249\n",
       "1     3731\n",
       "2     3329\n",
       "5     3164\n",
       "8     2072\n",
       "6     2057\n",
       "10    1530\n",
       "Name: Council District, dtype: int64"
      ]
     },
     "execution_count": 23,
     "metadata": {},
     "output_type": "execute_result"
    }
   ],
   "source": [
    "df['Council District'].value_counts()"
   ]
  },
  {
   "cell_type": "code",
   "execution_count": 24,
   "metadata": {},
   "outputs": [
    {
     "data": {
      "text/plain": [
       "11-Apr-16    153\n",
       "28-Nov-16    149\n",
       "14-Dec-16    142\n",
       "4-Apr-16     139\n",
       "3-Oct-16     139\n",
       "20-Jun-16    138\n",
       "4-Jan-16     138\n",
       "18-May-16    138\n",
       "21-Jun-16    136\n",
       "22-Mar-16    136\n",
       "12-Sep-16    133\n",
       "29-Nov-16    133\n",
       "16-May-16    131\n",
       "18-Jan-16    130\n",
       "19-Jan-16    130\n",
       "10-Jun-16    129\n",
       "19-Sep-16    129\n",
       "10-Oct-16    128\n",
       "25-Jan-16    128\n",
       "12-Dec-16    128\n",
       "25-Apr-16    127\n",
       "18-Jul-16    127\n",
       "13-Jun-16    125\n",
       "24-Mar-16    125\n",
       "27-Jun-16    125\n",
       "14-Nov-16    125\n",
       "8-Jul-16     125\n",
       "21-Nov-16    125\n",
       "28-Dec-16    124\n",
       "15-Sep-16    123\n",
       "            ... \n",
       "25-Sep-16     78\n",
       "25-Mar-16     78\n",
       "21-May-16     77\n",
       "15-Oct-16     76\n",
       "14-Aug-16     76\n",
       "30-Jul-16     76\n",
       "10-Jul-16     75\n",
       "20-Feb-16     75\n",
       "26-Mar-16     75\n",
       "16-Jul-16     75\n",
       "27-Feb-16     74\n",
       "30-Apr-16     74\n",
       "25-Nov-16     73\n",
       "24-Dec-16     73\n",
       "1-May-16      72\n",
       "31-Dec-16     72\n",
       "28-Feb-16     71\n",
       "19-Nov-16     71\n",
       "5-Mar-16      71\n",
       "20-Nov-16     70\n",
       "19-Jun-16     70\n",
       "2-Jul-16      67\n",
       "14-May-16     67\n",
       "15-May-16     66\n",
       "11-Dec-16     66\n",
       "27-Mar-16     65\n",
       "13-Feb-16     65\n",
       "24-Nov-16     63\n",
       "13-Aug-16     59\n",
       "24-Sep-16     59\n",
       "Name: GO Report Date, Length: 366, dtype: int64"
      ]
     },
     "execution_count": 24,
     "metadata": {},
     "output_type": "execute_result"
    }
   ],
   "source": [
    "df['GO Report Date'].value_counts()"
   ]
  },
  {
   "cell_type": "code",
   "execution_count": 25,
   "metadata": {},
   "outputs": [
    {
     "data": {
      "text/plain": [
       "0    6134\n",
       "1    5641\n",
       "4    5481\n",
       "2    5470\n",
       "3    5364\n",
       "6    4623\n",
       "5    4492\n",
       "Name: weekday, dtype: int64"
      ]
     },
     "execution_count": 25,
     "metadata": {},
     "output_type": "execute_result"
    }
   ],
   "source": [
    "# 0 is monday --> 6 is sunday\n",
    "df['weekday'].value_counts()"
   ]
  },
  {
   "cell_type": "code",
   "execution_count": 26,
   "metadata": {},
   "outputs": [
    {
     "data": {
      "text/plain": [
       "<Container object of 37205 artists>"
      ]
     },
     "execution_count": 26,
     "metadata": {},
     "output_type": "execute_result"
    },
    {
     "data": {
      "image/png": "[encoded data removed]",
      "text/plain": [
       "<matplotlib.figure.Figure at 0x1215e8b00>"
      ]
     },
     "metadata": {},
     "output_type": "display_data"
    }
   ],
   "source": [
    "# Setting the positions and width for the bars\n",
    "pos = list(range(len(df['weekday']))) \n",
    "width = 0.25 \n",
    "\n",
    "# Plotting the bars\n",
    "fig, ax = plt.subplots(figsize=(10,5))\n",
    "\n",
    "# Create a bar with pre_score data,\n",
    "# in position pos,\n",
    "plt.bar(pos, \n",
    "        #using df['pre_score'] data,\n",
    "        df['weekday'], \n",
    "        # of width\n",
    "        width, \n",
    "        # with alpha 0.5\n",
    "        alpha=0.5, \n",
    "        # with color\n",
    "        color='#EE3224', \n",
    "        # with label the first value in first_name\n",
    "        label=df['weekday'][0]) \n",
    "#from this graph, the distribution of weekdays seems relatively normal"
   ]
  },
  {
   "cell_type": "code",
   "execution_count": null,
   "metadata": {},
   "outputs": [],
   "source": []
  },
  {
   "cell_type": "code",
   "execution_count": 27,
   "metadata": {},
   "outputs": [
    {
     "name": "stdout",
     "output_type": "stream",
     "text": [
      "                  Council District  GO Location Zip   weekday  Agg Assault  \\\n",
      "Council District          1.000000        -0.072166 -0.006653    -0.090848   \n",
      "GO Location Zip          -0.072166         1.000000 -0.010266     0.024425   \n",
      "weekday                  -0.006653        -0.010266  1.000000     0.050120   \n",
      "Agg Assault              -0.090848         0.024425  0.050120     1.000000   \n",
      "Auto Theft               -0.035081         0.004436  0.009520    -0.059510   \n",
      "Burglary                 -0.056334         0.044186 -0.013880    -0.099704   \n",
      "Murder                   -0.016970        -0.006953  0.006758    -0.007952   \n",
      "Rape                     -0.022662         0.001134  0.009930    -0.034762   \n",
      "Robbery                  -0.050402         0.009844  0.030567    -0.042277   \n",
      "Theft                     0.132459        -0.051423 -0.034346    -0.380649   \n",
      "weekend                  -0.002557        -0.014606  0.770919     0.062733   \n",
      "\n",
      "                  Auto Theft  Burglary    Murder      Rape   Robbery  \\\n",
      "Council District   -0.035081 -0.056334 -0.016970 -0.022662 -0.050402   \n",
      "GO Location Zip     0.004436  0.044186 -0.006953  0.001134  0.009844   \n",
      "weekday             0.009520 -0.013880  0.006758  0.009930  0.030567   \n",
      "Agg Assault        -0.059510 -0.099704 -0.007952 -0.034762 -0.042277   \n",
      "Auto Theft          1.000000 -0.095936 -0.007651 -0.033448 -0.040679   \n",
      "Burglary           -0.095936  1.000000 -0.012819 -0.056040 -0.068155   \n",
      "Murder             -0.007651 -0.012819  1.000000 -0.004470 -0.005436   \n",
      "Rape               -0.033448 -0.056040 -0.004470  1.000000 -0.023762   \n",
      "Robbery            -0.040679 -0.068155 -0.005436 -0.023762  1.000000   \n",
      "Theft              -0.366263 -0.613646 -0.048942 -0.213949 -0.260201   \n",
      "weekend             0.009757 -0.024645  0.007220  0.008806  0.041600   \n",
      "\n",
      "                     Theft   weekend  \n",
      "Council District  0.132459 -0.002557  \n",
      "GO Location Zip  -0.051423 -0.014606  \n",
      "weekday          -0.034346  0.770919  \n",
      "Agg Assault      -0.380649  0.062733  \n",
      "Auto Theft       -0.366263  0.009757  \n",
      "Burglary         -0.613646 -0.024645  \n",
      "Murder           -0.048942  0.007220  \n",
      "Rape             -0.213949  0.008806  \n",
      "Robbery          -0.260201  0.041600  \n",
      "Theft             1.000000 -0.036471  \n",
      "weekend          -0.036471  1.000000  \n"
     ]
    }
   ],
   "source": [
    "corr = df.corr()\n",
    "print(corr)"
   ]
  },
  {
   "cell_type": "code",
   "execution_count": 28,
   "metadata": {},
   "outputs": [
    {
     "data": {
      "text/plain": [
       "<matplotlib.axes._subplots.AxesSubplot at 0x123b2d7f0>"
      ]
     },
     "execution_count": 28,
     "metadata": {},
     "output_type": "execute_result"
    },
    {
     "data": {
      "image/png": "[encoded data removed]",
      "text/plain": [
       "<matplotlib.figure.Figure at 0x123a96f60>"
      ]
     },
     "metadata": {},
     "output_type": "display_data"
    }
   ],
   "source": [
    "# Generate a mask for the upper triangle\n",
    "mask = np.zeros_like(corr, dtype=np.bool)\n",
    "mask[np.triu_indices_from(mask)] = True\n",
    "\n",
    "# Set up the matplotlib figure\n",
    "f, ax = plt.subplots(figsize=(11, 9))\n",
    "\n",
    "# Generate a custom diverging colormap\n",
    "cmap = sns.diverging_palette(220, 10, as_cmap=True)\n",
    "\n",
    "# Draw the heatmap with the mask and correct aspect ratio\n",
    "sns.heatmap(corr, mask=mask, cmap=cmap, vmax=.3, center=0,\n",
    "            square=True, linewidths=.5, cbar_kws={\"shrink\": .5})"
   ]
  },
  {
   "cell_type": "markdown",
   "metadata": {},
   "source": [
    "# Step 4- Modeling\n",
    "    - A) multiclass classifier to predict if zip code, month, and weekday help predict crime type\n",
    "    - B) multiclass classifier to predict if crime type, month, and weekday help predict zip code\n",
    "    - C) binary classifier to predict weekday or weekend occurence of theft"
   ]
  },
  {
   "cell_type": "markdown",
   "metadata": {},
   "source": [
    "### 4A) multiclass classifier to predict if zip code, month, and weekday help predict crime type"
   ]
  },
  {
   "cell_type": "code",
   "execution_count": 29,
   "metadata": {},
   "outputs": [
    {
     "data": {
      "text/plain": [
       "Index(['Council District', 'Highest NIBRS/UCR Offense Description',\n",
       "       'GO Report Date', 'GO Location Zip', 'weekday', 'Month', 'Agg Assault',\n",
       "       'Auto Theft', 'Burglary', 'Murder', 'Rape', 'Robbery', 'Theft',\n",
       "       'weekend'],\n",
       "      dtype='object')"
      ]
     },
     "execution_count": 29,
     "metadata": {},
     "output_type": "execute_result"
    }
   ],
   "source": [
    "df.columns"
   ]
  },
  {
   "cell_type": "code",
   "execution_count": 30,
   "metadata": {},
   "outputs": [],
   "source": [
    "X = df[['GO Location Zip','Month','weekday']]\n",
    "y = df['Highest NIBRS/UCR Offense Description']\n"
   ]
  },
  {
   "cell_type": "code",
   "execution_count": 31,
   "metadata": {},
   "outputs": [],
   "source": [
    "X_train, X_test, y_train, y_test = train_test_split(X, y,\n",
    "                                                   test_size=0.33,\n",
    "                                                    random_state=50)"
   ]
  },
  {
   "cell_type": "code",
   "execution_count": 32,
   "metadata": {},
   "outputs": [],
   "source": [
    "ss = StandardScaler()\n",
    "ss.fit(X_train)\n",
    "X_train_scaled = ss.transform(X_train)\n",
    "#scaling test\n",
    "ss.fit(X_test)\n",
    "X_test_scaled = ss.transform(X_test)"
   ]
  },
  {
   "cell_type": "code",
   "execution_count": 33,
   "metadata": {},
   "outputs": [
    {
     "name": "stdout",
     "output_type": "stream",
     "text": [
      "0.704512135527\n"
     ]
    }
   ],
   "source": [
    "lr = LogisticRegression()\n",
    "log_model = lr.fit(X_train_scaled, y_train)\n",
    "print(log_model.score(X_test_scaled, y_test))\n",
    "# so 70% predictability to determine crime type solely based on weekday, month, and zip code --> yay?"
   ]
  },
  {
   "cell_type": "code",
   "execution_count": 34,
   "metadata": {},
   "outputs": [
    {
     "name": "stdout",
     "output_type": "stream",
     "text": [
      "[ 0.69867682  0.69895708  0.69909729  0.69923756  0.69923756]\n",
      "Average score: 0.699 +/- 0.00021\n"
     ]
    }
   ],
   "source": [
    "rbf_model = SVC(kernel='rbf')\n",
    "\n",
    "scores = cross_val_score(rbf_model, X_train_scaled, y_train, cv=5)\n",
    "print(scores)\n",
    "sm = scores.mean()\n",
    "ss = scores.std()\n",
    "print(\"Average score: {:0.3} +/- {:0.3}\".format(sm, ss))"
   ]
  },
  {
   "cell_type": "code",
   "execution_count": 35,
   "metadata": {},
   "outputs": [
    {
     "name": "stdout",
     "output_type": "stream",
     "text": [
      "Average score: 0.705 +/- 0.000466\n"
     ]
    }
   ],
   "source": [
    "\n",
    "lin_model = SVC(kernel='linear')\n",
    "\n",
    "scores = cross_val_score(lin_model,  X_test_scaled, y_test, cv=5)\n",
    "sm = scores.mean()\n",
    "ss = scores.std()\n",
    "print(\"Average score: {:0.3} +/- {:0.3}\".format(sm, ss))"
   ]
  },
  {
   "cell_type": "markdown",
   "metadata": {},
   "source": [
    "### 4B) multiclass classifier to predict if crime type, month, and weekday help predict zip code"
   ]
  },
  {
   "cell_type": "code",
   "execution_count": 36,
   "metadata": {},
   "outputs": [
    {
     "data": {
      "text/html": [
       "<div>\n",
       "<style scoped>\n",
       "    .dataframe tbody tr th:only-of-type {\n",
       "        vertical-align: middle;\n",
       "    }\n",
       "\n",
       "    .dataframe tbody tr th {\n",
       "        vertical-align: top;\n",
       "    }\n",
       "\n",
       "    .dataframe thead th {\n",
       "        text-align: right;\n",
       "    }\n",
       "</style>\n",
       "<table border=\"1\" class=\"dataframe\">\n",
       "  <thead>\n",
       "    <tr style=\"text-align: right;\">\n",
       "      <th></th>\n",
       "      <th>Agg Assault</th>\n",
       "      <th>Auto Theft</th>\n",
       "      <th>Burglary</th>\n",
       "      <th>Murder</th>\n",
       "      <th>Rape</th>\n",
       "      <th>Robbery</th>\n",
       "      <th>Theft</th>\n",
       "    </tr>\n",
       "  </thead>\n",
       "  <tbody>\n",
       "    <tr>\n",
       "      <th>0</th>\n",
       "      <td>1</td>\n",
       "      <td>0</td>\n",
       "      <td>0</td>\n",
       "      <td>0</td>\n",
       "      <td>0</td>\n",
       "      <td>0</td>\n",
       "      <td>0</td>\n",
       "    </tr>\n",
       "    <tr>\n",
       "      <th>1</th>\n",
       "      <td>0</td>\n",
       "      <td>0</td>\n",
       "      <td>0</td>\n",
       "      <td>0</td>\n",
       "      <td>0</td>\n",
       "      <td>0</td>\n",
       "      <td>1</td>\n",
       "    </tr>\n",
       "    <tr>\n",
       "      <th>2</th>\n",
       "      <td>0</td>\n",
       "      <td>0</td>\n",
       "      <td>0</td>\n",
       "      <td>0</td>\n",
       "      <td>0</td>\n",
       "      <td>1</td>\n",
       "      <td>0</td>\n",
       "    </tr>\n",
       "    <tr>\n",
       "      <th>3</th>\n",
       "      <td>0</td>\n",
       "      <td>0</td>\n",
       "      <td>0</td>\n",
       "      <td>0</td>\n",
       "      <td>0</td>\n",
       "      <td>0</td>\n",
       "      <td>1</td>\n",
       "    </tr>\n",
       "    <tr>\n",
       "      <th>4</th>\n",
       "      <td>0</td>\n",
       "      <td>0</td>\n",
       "      <td>0</td>\n",
       "      <td>0</td>\n",
       "      <td>1</td>\n",
       "      <td>0</td>\n",
       "      <td>0</td>\n",
       "    </tr>\n",
       "  </tbody>\n",
       "</table>\n",
       "</div>"
      ],
      "text/plain": [
       "   Agg Assault  Auto Theft  Burglary  Murder  Rape  Robbery  Theft\n",
       "0            1           0         0       0     0        0      0\n",
       "1            0           0         0       0     0        0      1\n",
       "2            0           0         0       0     0        1      0\n",
       "3            0           0         0       0     0        0      1\n",
       "4            0           0         0       0     1        0      0"
      ]
     },
     "execution_count": 36,
     "metadata": {},
     "output_type": "execute_result"
    }
   ],
   "source": [
    "\n",
    "df_crime_simple = pd.get_dummies(df['Highest NIBRS/UCR Offense Description'])\n",
    "df_crime_simple.head()"
   ]
  },
  {
   "cell_type": "code",
   "execution_count": 37,
   "metadata": {},
   "outputs": [],
   "source": [
    "\n",
    "df_new_1 = pd.concat([df, df_crime_simple],axis=1)"
   ]
  },
  {
   "cell_type": "code",
   "execution_count": 38,
   "metadata": {},
   "outputs": [
    {
     "data": {
      "text/plain": [
       "Index(['Council District', 'Highest NIBRS/UCR Offense Description',\n",
       "       'GO Report Date', 'GO Location Zip', 'weekday', 'Month', 'Agg Assault',\n",
       "       'Auto Theft', 'Burglary', 'Murder', 'Rape', 'Robbery', 'Theft',\n",
       "       'weekend', 'Agg Assault', 'Auto Theft', 'Burglary', 'Murder', 'Rape',\n",
       "       'Robbery', 'Theft'],\n",
       "      dtype='object')"
      ]
     },
     "execution_count": 38,
     "metadata": {},
     "output_type": "execute_result"
    }
   ],
   "source": [
    "df_new_1.columns"
   ]
  },
  {
   "cell_type": "code",
   "execution_count": 39,
   "metadata": {},
   "outputs": [],
   "source": [
    "X = df_new_1[['Council District','weekday', 'Month','weekend', 'Agg Assault', 'Auto Theft', 'Burglary', 'Murder', 'Rape','Robbery', 'Theft']]\n",
    "y = df_new_1['GO Location Zip']\n",
    "# should this y be model_X sale condition because it is not a float?"
   ]
  },
  {
   "cell_type": "code",
   "execution_count": 40,
   "metadata": {},
   "outputs": [],
   "source": [
    "X_train, X_test, y_train, y_test = train_test_split(X, y,\n",
    "                                                   test_size=0.33,\n",
    "                                                    random_state=50)"
   ]
  },
  {
   "cell_type": "code",
   "execution_count": 41,
   "metadata": {},
   "outputs": [],
   "source": [
    "ss = StandardScaler()\n",
    "ss.fit(X_train)\n",
    "X_train_scaled = ss.transform(X_train)\n",
    "#scaling test\n",
    "ss.fit(X_test)\n",
    "X_test_scaled = ss.transform(X_test)"
   ]
  },
  {
   "cell_type": "code",
   "execution_count": 42,
   "metadata": {},
   "outputs": [
    {
     "name": "stdout",
     "output_type": "stream",
     "text": [
      "0.170467502851\n"
     ]
    }
   ],
   "source": [
    "lr = LogisticRegression()\n",
    "log_model = lr.fit(X_train_scaled, y_train)\n",
    "print(log_model.score(X_test_scaled, y_test))\n",
    "# so 70% predictability to determine crime type solely based on weekday, month, and zip code --> yay?"
   ]
  },
  {
   "cell_type": "code",
   "execution_count": 43,
   "metadata": {},
   "outputs": [
    {
     "name": "stderr",
     "output_type": "stream",
     "text": [
      "/Users/Owner/anaconda3/lib/python3.6/site-packages/sklearn/model_selection/_split.py:605: Warning: The least populated class in y has only 1 members, which is too few. The minimum number of members in any class cannot be less than n_splits=5.\n",
      "  % (min_groups, self.n_splits)), Warning)\n"
     ]
    },
    {
     "name": "stdout",
     "output_type": "stream",
     "text": [
      "[ 0.21480583  0.21703854  0.21978022  0.22313036  0.22117357]\n",
      "Average score: 0.219 +/- 0.00295\n"
     ]
    }
   ],
   "source": [
    "scores = cross_val_score(rbf_model, X_test_scaled, y_test, cv=5)\n",
    "print(scores)\n",
    "sm = scores.mean()\n",
    "ss = scores.std()\n",
    "print(\"Average score: {:0.3} +/- {:0.3}\".format(sm, ss))"
   ]
  },
  {
   "cell_type": "code",
   "execution_count": 44,
   "metadata": {
    "scrolled": true
   },
   "outputs": [
    {
     "name": "stderr",
     "output_type": "stream",
     "text": [
      "/Users/Owner/anaconda3/lib/python3.6/site-packages/sklearn/model_selection/_split.py:605: Warning: The least populated class in y has only 1 members, which is too few. The minimum number of members in any class cannot be less than n_splits=5.\n",
      "  % (min_groups, self.n_splits)), Warning)\n"
     ]
    },
    {
     "name": "stdout",
     "output_type": "stream",
     "text": [
      "Average score: 0.276 +/- 0.00818\n"
     ]
    }
   ],
   "source": [
    "\n",
    "lin_model = SVC(kernel='linear')\n",
    "\n",
    "scores = cross_val_score(lin_model,  X_test_scaled, y_test, cv=5)\n",
    "sm = scores.mean()\n",
    "ss = scores.std()\n",
    "print(\"Average score: {:0.3} +/- {:0.3}\".format(sm, ss))"
   ]
  },
  {
   "cell_type": "markdown",
   "metadata": {},
   "source": [
    "## new model to predict offense via type of crime"
   ]
  },
  {
   "cell_type": "code",
   "execution_count": 45,
   "metadata": {},
   "outputs": [],
   "source": [
    "X = df[['GO Location Zip','Month','weekday']]\n",
    "y = df['Highest NIBRS/UCR Offense Description']\n"
   ]
  },
  {
   "cell_type": "code",
   "execution_count": 46,
   "metadata": {},
   "outputs": [],
   "source": [
    "ss = StandardScaler()\n",
    "Xn = ss.fit_transform(X)\n",
    "\n",
    "from sklearn.svm import SVC\n",
    "from sklearn.model_selection import cross_val_score\n"
   ]
  },
  {
   "cell_type": "code",
   "execution_count": 47,
   "metadata": {},
   "outputs": [
    {
     "name": "stdout",
     "output_type": "stream",
     "text": [
      "Average score: 0.701 +/- 0.000168\n"
     ]
    }
   ],
   "source": [
    "rbf_model = SVC(kernel='rbf')\n",
    "\n",
    "scores = cross_val_score(rbf_model, Xn, y, cv=5)\n",
    "sm = scores.mean()\n",
    "ss = scores.std()\n",
    "print(\"Average score: {:0.3} +/- {:0.3}\".format(sm, ss))\n"
   ]
  },
  {
   "cell_type": "code",
   "execution_count": null,
   "metadata": {},
   "outputs": [],
   "source": [
    "lin_model = SVC(kernel='linear')\n",
    "\n",
    "scores = cross_val_score(lin_model, Xn, y, cv=5)\n",
    "sm = scores.mean()\n",
    "ss = scores.std()\n",
    "print(\"Average score: {:0.3} +/- {:0.3}\".format(sm, ss))"
   ]
  },
  {
   "cell_type": "code",
   "execution_count": 37,
   "metadata": {},
   "outputs": [],
   "source": [
    "#classification report for model\n",
    "\n",
    "lin_model = SVC(kernel='linear')\n",
    "\n",
    "from sklearn.metrics import classification_report\n",
    "\n",
    "def print_cm_cr(y_true, y_pred):\n",
    "    \"\"\"prints the confusion matrix and the classification report\"\"\"\n",
    "    confusion = pd.crosstab(y_true, y_pred, rownames=['Actual'], colnames=['Predicted'], margins=True)\n",
    "    print(confusion)\n",
    "    print()\n",
    "    print(classification_report(y_true, y_pred))\n"
   ]
  },
  {
   "cell_type": "code",
   "execution_count": 38,
   "metadata": {},
   "outputs": [
    {
     "name": "stdout",
     "output_type": "stream",
     "text": [
      "Predicted    Theft    All\n",
      "Actual                   \n",
      "Agg Assault    715    715\n",
      "Auto Theft     665    665\n",
      "Burglary      1700   1700\n",
      "Murder          13     13\n",
      "Rape           235    235\n",
      "Robbery        345    345\n",
      "Theft         8605   8605\n",
      "All          12278  12278\n",
      "\n",
      "             precision    recall  f1-score   support\n",
      "\n",
      "Agg Assault       0.00      0.00      0.00       715\n",
      " Auto Theft       0.00      0.00      0.00       665\n",
      "   Burglary       0.00      0.00      0.00      1700\n",
      "     Murder       0.00      0.00      0.00        13\n",
      "       Rape       0.00      0.00      0.00       235\n",
      "    Robbery       0.00      0.00      0.00       345\n",
      "      Theft       0.70      1.00      0.82      8605\n",
      "\n",
      "avg / total       0.49      0.70      0.58     12278\n",
      "\n"
     ]
    },
    {
     "name": "stderr",
     "output_type": "stream",
     "text": [
      "/Users/Owner/anaconda3/lib/python3.6/site-packages/sklearn/metrics/classification.py:1135: UndefinedMetricWarning: Precision and F-score are ill-defined and being set to 0.0 in labels with no predicted samples.\n",
      "  'precision', 'predicted', average, warn_for)\n"
     ]
    }
   ],
   "source": [
    "from sklearn.model_selection import train_test_split\n",
    "\n",
    "X_train, X_test, y_train, y_test = train_test_split(Xn, y, stratify=y, test_size=0.33)\n",
    "lin_model.fit(X_train, y_train)\n",
    "y_pred = lin_model.predict(X_test)\n",
    "print_cm_cr(y_test, y_pred)"
   ]
  },
  {
   "cell_type": "code",
   "execution_count": null,
   "metadata": {},
   "outputs": [],
   "source": [
    "# https://git.generalassemb.ly/DSI-EAST-1/lab-svm-support_vector_machines/blob/master/solution-code/svm-lab-solution-code.ipynb\n"
   ]
  },
  {
   "cell_type": "code",
   "execution_count": 39,
   "metadata": {},
   "outputs": [],
   "source": [
    "ss = StandardScaler()\n",
    "Xn = ss.fit_transform(X)"
   ]
  },
  {
   "cell_type": "code",
   "execution_count": 40,
   "metadata": {},
   "outputs": [
    {
     "name": "stdout",
     "output_type": "stream",
     "text": [
      "Predicted    Theft    All\n",
      "Actual                   \n",
      "Agg Assault    715    715\n",
      "Auto Theft     665    665\n",
      "Burglary      1700   1700\n",
      "Murder          13     13\n",
      "Rape           235    235\n",
      "Robbery        345    345\n",
      "Theft         8605   8605\n",
      "All          12278  12278\n",
      "\n",
      "             precision    recall  f1-score   support\n",
      "\n",
      "Agg Assault       0.00      0.00      0.00       715\n",
      " Auto Theft       0.00      0.00      0.00       665\n",
      "   Burglary       0.00      0.00      0.00      1700\n",
      "     Murder       0.00      0.00      0.00        13\n",
      "       Rape       0.00      0.00      0.00       235\n",
      "    Robbery       0.00      0.00      0.00       345\n",
      "      Theft       0.70      1.00      0.82      8605\n",
      "\n",
      "avg / total       0.49      0.70      0.58     12278\n",
      "\n"
     ]
    },
    {
     "name": "stderr",
     "output_type": "stream",
     "text": [
      "/Users/Owner/anaconda3/lib/python3.6/site-packages/sklearn/metrics/classification.py:1135: UndefinedMetricWarning: Precision and F-score are ill-defined and being set to 0.0 in labels with no predicted samples.\n",
      "  'precision', 'predicted', average, warn_for)\n"
     ]
    }
   ],
   "source": [
    "\n",
    "\n",
    "X_train, X_test, y_train, y_test = train_test_split(Xn, y, stratify=y, test_size=0.33)\n",
    "lin_model.fit(X_train, y_train)\n",
    "y_pred = lin_model.predict(X_test)\n",
    "print_cm_cr(y_test, y_pred)\n",
    "\n"
   ]
  },
  {
   "cell_type": "code",
   "execution_count": 41,
   "metadata": {},
   "outputs": [
    {
     "name": "stdout",
     "output_type": "stream",
     "text": [
      "Fitting 5 folds for each of 100 candidates, totalling 500 fits\n"
     ]
    },
    {
     "name": "stderr",
     "output_type": "stream",
     "text": [
      "[Parallel(n_jobs=1)]: Done 500 out of 500 | elapsed:  4.1min finished\n"
     ]
    },
    {
     "data": {
      "text/plain": [
       "GridSearchCV(cv=5, error_score='raise',\n",
       "       estimator=KNeighborsClassifier(algorithm='auto', leaf_size=30, metric='minkowski',\n",
       "           metric_params=None, n_jobs=1, n_neighbors=5, p=2,\n",
       "           weights='uniform'),\n",
       "       fit_params=None, iid=True, n_jobs=1,\n",
       "       param_grid={'n_neighbors': [1, 2, 3, 4, 5, 6, 7, 8, 9, 10, 11, 12, 13, 14, 15, 16, 17, 18, 19, 20, 21, 22, 23, 24, 25, 26, 27, 28, 29, 30, 31, 32, 33, 34, 35, 36, 37, 38, 39, 40, 41, 42, 43, 44, 45, 46, 47, 48, 49, 50], 'weights': ['distance', 'uniform']},\n",
       "       pre_dispatch='2*n_jobs', refit=True, return_train_score='warn',\n",
       "       scoring=None, verbose=1)"
      ]
     },
     "execution_count": 41,
     "metadata": {},
     "output_type": "execute_result"
    }
   ],
   "source": [
    "knn_params = {\n",
    "    'n_neighbors':list(range(1,51)),\n",
    "    'weights':['distance','uniform']\n",
    "}\n",
    "\n",
    "knn_gs = GridSearchCV(KNeighborsClassifier(), knn_params, cv=5, verbose=1)\n",
    "knn_gs.fit(Xn, y)"
   ]
  },
  {
   "cell_type": "code",
   "execution_count": 42,
   "metadata": {},
   "outputs": [
    {
     "name": "stdout",
     "output_type": "stream",
     "text": [
      "{'n_neighbors': 47, 'weights': 'uniform'}\n",
      "0.700416610671\n"
     ]
    }
   ],
   "source": [
    "\n",
    "\n",
    "knn_best = knn_gs.best_estimator_\n",
    "print(knn_gs.best_params_)\n",
    "print(knn_gs.best_score_)\n",
    "\n"
   ]
  },
  {
   "cell_type": "code",
   "execution_count": 150,
   "metadata": {},
   "outputs": [
    {
     "name": "stdout",
     "output_type": "stream",
     "text": [
      "Fitting 3 folds for each of 25 candidates, totalling 75 fits\n"
     ]
    },
    {
     "ename": "KeyboardInterrupt",
     "evalue": "",
     "output_type": "error",
     "traceback": [
      "\u001b[0;31m---------------------------------------------------------------------------\u001b[0m",
      "\u001b[0;31mKeyboardInterrupt\u001b[0m                         Traceback (most recent call last)",
      "\u001b[0;32m<ipython-input-150-f4684abb6b4d>\u001b[0m in \u001b[0;36m<module>\u001b[0;34m()\u001b[0m\n\u001b[1;32m     11\u001b[0m \u001b[0;34m\u001b[0m\u001b[0m\n\u001b[1;32m     12\u001b[0m \u001b[0msvc_gs\u001b[0m \u001b[0;34m=\u001b[0m \u001b[0mGridSearchCV\u001b[0m\u001b[0;34m(\u001b[0m\u001b[0mSVC\u001b[0m\u001b[0;34m(\u001b[0m\u001b[0;34m)\u001b[0m\u001b[0;34m,\u001b[0m \u001b[0msvc_params\u001b[0m\u001b[0;34m,\u001b[0m \u001b[0mcv\u001b[0m\u001b[0;34m=\u001b[0m\u001b[0;36m3\u001b[0m\u001b[0;34m,\u001b[0m \u001b[0mverbose\u001b[0m\u001b[0;34m=\u001b[0m\u001b[0;36m1\u001b[0m\u001b[0;34m)\u001b[0m\u001b[0;34m\u001b[0m\u001b[0m\n\u001b[0;32m---> 13\u001b[0;31m \u001b[0msvc_gs\u001b[0m\u001b[0;34m.\u001b[0m\u001b[0mfit\u001b[0m\u001b[0;34m(\u001b[0m\u001b[0mXn\u001b[0m\u001b[0;34m,\u001b[0m \u001b[0my\u001b[0m\u001b[0;34m)\u001b[0m\u001b[0;34m\u001b[0m\u001b[0m\n\u001b[0m\u001b[1;32m     14\u001b[0m \u001b[0;34m\u001b[0m\u001b[0m\n\u001b[1;32m     15\u001b[0m \u001b[0;34m\u001b[0m\u001b[0m\n",
      "\u001b[0;32m~/anaconda3/lib/python3.6/site-packages/sklearn/model_selection/_search.py\u001b[0m in \u001b[0;36mfit\u001b[0;34m(self, X, y, groups, **fit_params)\u001b[0m\n\u001b[1;32m    637\u001b[0m                                   error_score=self.error_score)\n\u001b[1;32m    638\u001b[0m           for parameters, (train, test) in product(candidate_params,\n\u001b[0;32m--> 639\u001b[0;31m                                                    cv.split(X, y, groups)))\n\u001b[0m\u001b[1;32m    640\u001b[0m \u001b[0;34m\u001b[0m\u001b[0m\n\u001b[1;32m    641\u001b[0m         \u001b[0;31m# if one choose to see train score, \"out\" will contain train score info\u001b[0m\u001b[0;34m\u001b[0m\u001b[0;34m\u001b[0m\u001b[0m\n",
      "\u001b[0;32m~/anaconda3/lib/python3.6/site-packages/sklearn/externals/joblib/parallel.py\u001b[0m in \u001b[0;36m__call__\u001b[0;34m(self, iterable)\u001b[0m\n\u001b[1;32m    777\u001b[0m             \u001b[0;31m# was dispatched. In particular this covers the edge\u001b[0m\u001b[0;34m\u001b[0m\u001b[0;34m\u001b[0m\u001b[0m\n\u001b[1;32m    778\u001b[0m             \u001b[0;31m# case of Parallel used with an exhausted iterator.\u001b[0m\u001b[0;34m\u001b[0m\u001b[0;34m\u001b[0m\u001b[0m\n\u001b[0;32m--> 779\u001b[0;31m             \u001b[0;32mwhile\u001b[0m \u001b[0mself\u001b[0m\u001b[0;34m.\u001b[0m\u001b[0mdispatch_one_batch\u001b[0m\u001b[0;34m(\u001b[0m\u001b[0miterator\u001b[0m\u001b[0;34m)\u001b[0m\u001b[0;34m:\u001b[0m\u001b[0;34m\u001b[0m\u001b[0m\n\u001b[0m\u001b[1;32m    780\u001b[0m                 \u001b[0mself\u001b[0m\u001b[0;34m.\u001b[0m\u001b[0m_iterating\u001b[0m \u001b[0;34m=\u001b[0m \u001b[0;32mTrue\u001b[0m\u001b[0;34m\u001b[0m\u001b[0m\n\u001b[1;32m    781\u001b[0m             \u001b[0;32melse\u001b[0m\u001b[0;34m:\u001b[0m\u001b[0;34m\u001b[0m\u001b[0m\n",
      "\u001b[0;32m~/anaconda3/lib/python3.6/site-packages/sklearn/externals/joblib/parallel.py\u001b[0m in \u001b[0;36mdispatch_one_batch\u001b[0;34m(self, iterator)\u001b[0m\n\u001b[1;32m    623\u001b[0m                 \u001b[0;32mreturn\u001b[0m \u001b[0;32mFalse\u001b[0m\u001b[0;34m\u001b[0m\u001b[0m\n\u001b[1;32m    624\u001b[0m             \u001b[0;32melse\u001b[0m\u001b[0;34m:\u001b[0m\u001b[0;34m\u001b[0m\u001b[0m\n\u001b[0;32m--> 625\u001b[0;31m                 \u001b[0mself\u001b[0m\u001b[0;34m.\u001b[0m\u001b[0m_dispatch\u001b[0m\u001b[0;34m(\u001b[0m\u001b[0mtasks\u001b[0m\u001b[0;34m)\u001b[0m\u001b[0;34m\u001b[0m\u001b[0m\n\u001b[0m\u001b[1;32m    626\u001b[0m                 \u001b[0;32mreturn\u001b[0m \u001b[0;32mTrue\u001b[0m\u001b[0;34m\u001b[0m\u001b[0m\n\u001b[1;32m    627\u001b[0m \u001b[0;34m\u001b[0m\u001b[0m\n",
      "\u001b[0;32m~/anaconda3/lib/python3.6/site-packages/sklearn/externals/joblib/parallel.py\u001b[0m in \u001b[0;36m_dispatch\u001b[0;34m(self, batch)\u001b[0m\n\u001b[1;32m    586\u001b[0m         \u001b[0mdispatch_timestamp\u001b[0m \u001b[0;34m=\u001b[0m \u001b[0mtime\u001b[0m\u001b[0;34m.\u001b[0m\u001b[0mtime\u001b[0m\u001b[0;34m(\u001b[0m\u001b[0;34m)\u001b[0m\u001b[0;34m\u001b[0m\u001b[0m\n\u001b[1;32m    587\u001b[0m         \u001b[0mcb\u001b[0m \u001b[0;34m=\u001b[0m \u001b[0mBatchCompletionCallBack\u001b[0m\u001b[0;34m(\u001b[0m\u001b[0mdispatch_timestamp\u001b[0m\u001b[0;34m,\u001b[0m \u001b[0mlen\u001b[0m\u001b[0;34m(\u001b[0m\u001b[0mbatch\u001b[0m\u001b[0;34m)\u001b[0m\u001b[0;34m,\u001b[0m \u001b[0mself\u001b[0m\u001b[0;34m)\u001b[0m\u001b[0;34m\u001b[0m\u001b[0m\n\u001b[0;32m--> 588\u001b[0;31m         \u001b[0mjob\u001b[0m \u001b[0;34m=\u001b[0m \u001b[0mself\u001b[0m\u001b[0;34m.\u001b[0m\u001b[0m_backend\u001b[0m\u001b[0;34m.\u001b[0m\u001b[0mapply_async\u001b[0m\u001b[0;34m(\u001b[0m\u001b[0mbatch\u001b[0m\u001b[0;34m,\u001b[0m \u001b[0mcallback\u001b[0m\u001b[0;34m=\u001b[0m\u001b[0mcb\u001b[0m\u001b[0;34m)\u001b[0m\u001b[0;34m\u001b[0m\u001b[0m\n\u001b[0m\u001b[1;32m    589\u001b[0m         \u001b[0mself\u001b[0m\u001b[0;34m.\u001b[0m\u001b[0m_jobs\u001b[0m\u001b[0;34m.\u001b[0m\u001b[0mappend\u001b[0m\u001b[0;34m(\u001b[0m\u001b[0mjob\u001b[0m\u001b[0;34m)\u001b[0m\u001b[0;34m\u001b[0m\u001b[0m\n\u001b[1;32m    590\u001b[0m \u001b[0;34m\u001b[0m\u001b[0m\n",
      "\u001b[0;32m~/anaconda3/lib/python3.6/site-packages/sklearn/externals/joblib/_parallel_backends.py\u001b[0m in \u001b[0;36mapply_async\u001b[0;34m(self, func, callback)\u001b[0m\n\u001b[1;32m    109\u001b[0m     \u001b[0;32mdef\u001b[0m \u001b[0mapply_async\u001b[0m\u001b[0;34m(\u001b[0m\u001b[0mself\u001b[0m\u001b[0;34m,\u001b[0m \u001b[0mfunc\u001b[0m\u001b[0;34m,\u001b[0m \u001b[0mcallback\u001b[0m\u001b[0;34m=\u001b[0m\u001b[0;32mNone\u001b[0m\u001b[0;34m)\u001b[0m\u001b[0;34m:\u001b[0m\u001b[0;34m\u001b[0m\u001b[0m\n\u001b[1;32m    110\u001b[0m         \u001b[0;34m\"\"\"Schedule a func to be run\"\"\"\u001b[0m\u001b[0;34m\u001b[0m\u001b[0m\n\u001b[0;32m--> 111\u001b[0;31m         \u001b[0mresult\u001b[0m \u001b[0;34m=\u001b[0m \u001b[0mImmediateResult\u001b[0m\u001b[0;34m(\u001b[0m\u001b[0mfunc\u001b[0m\u001b[0;34m)\u001b[0m\u001b[0;34m\u001b[0m\u001b[0m\n\u001b[0m\u001b[1;32m    112\u001b[0m         \u001b[0;32mif\u001b[0m \u001b[0mcallback\u001b[0m\u001b[0;34m:\u001b[0m\u001b[0;34m\u001b[0m\u001b[0m\n\u001b[1;32m    113\u001b[0m             \u001b[0mcallback\u001b[0m\u001b[0;34m(\u001b[0m\u001b[0mresult\u001b[0m\u001b[0;34m)\u001b[0m\u001b[0;34m\u001b[0m\u001b[0m\n",
      "\u001b[0;32m~/anaconda3/lib/python3.6/site-packages/sklearn/externals/joblib/_parallel_backends.py\u001b[0m in \u001b[0;36m__init__\u001b[0;34m(self, batch)\u001b[0m\n\u001b[1;32m    330\u001b[0m         \u001b[0;31m# Don't delay the application, to avoid keeping the input\u001b[0m\u001b[0;34m\u001b[0m\u001b[0;34m\u001b[0m\u001b[0m\n\u001b[1;32m    331\u001b[0m         \u001b[0;31m# arguments in memory\u001b[0m\u001b[0;34m\u001b[0m\u001b[0;34m\u001b[0m\u001b[0m\n\u001b[0;32m--> 332\u001b[0;31m         \u001b[0mself\u001b[0m\u001b[0;34m.\u001b[0m\u001b[0mresults\u001b[0m \u001b[0;34m=\u001b[0m \u001b[0mbatch\u001b[0m\u001b[0;34m(\u001b[0m\u001b[0;34m)\u001b[0m\u001b[0;34m\u001b[0m\u001b[0m\n\u001b[0m\u001b[1;32m    333\u001b[0m \u001b[0;34m\u001b[0m\u001b[0m\n\u001b[1;32m    334\u001b[0m     \u001b[0;32mdef\u001b[0m \u001b[0mget\u001b[0m\u001b[0;34m(\u001b[0m\u001b[0mself\u001b[0m\u001b[0;34m)\u001b[0m\u001b[0;34m:\u001b[0m\u001b[0;34m\u001b[0m\u001b[0m\n",
      "\u001b[0;32m~/anaconda3/lib/python3.6/site-packages/sklearn/externals/joblib/parallel.py\u001b[0m in \u001b[0;36m__call__\u001b[0;34m(self)\u001b[0m\n\u001b[1;32m    129\u001b[0m \u001b[0;34m\u001b[0m\u001b[0m\n\u001b[1;32m    130\u001b[0m     \u001b[0;32mdef\u001b[0m \u001b[0m__call__\u001b[0m\u001b[0;34m(\u001b[0m\u001b[0mself\u001b[0m\u001b[0;34m)\u001b[0m\u001b[0;34m:\u001b[0m\u001b[0;34m\u001b[0m\u001b[0m\n\u001b[0;32m--> 131\u001b[0;31m         \u001b[0;32mreturn\u001b[0m \u001b[0;34m[\u001b[0m\u001b[0mfunc\u001b[0m\u001b[0;34m(\u001b[0m\u001b[0;34m*\u001b[0m\u001b[0margs\u001b[0m\u001b[0;34m,\u001b[0m \u001b[0;34m**\u001b[0m\u001b[0mkwargs\u001b[0m\u001b[0;34m)\u001b[0m \u001b[0;32mfor\u001b[0m \u001b[0mfunc\u001b[0m\u001b[0;34m,\u001b[0m \u001b[0margs\u001b[0m\u001b[0;34m,\u001b[0m \u001b[0mkwargs\u001b[0m \u001b[0;32min\u001b[0m \u001b[0mself\u001b[0m\u001b[0;34m.\u001b[0m\u001b[0mitems\u001b[0m\u001b[0;34m]\u001b[0m\u001b[0;34m\u001b[0m\u001b[0m\n\u001b[0m\u001b[1;32m    132\u001b[0m \u001b[0;34m\u001b[0m\u001b[0m\n\u001b[1;32m    133\u001b[0m     \u001b[0;32mdef\u001b[0m \u001b[0m__len__\u001b[0m\u001b[0;34m(\u001b[0m\u001b[0mself\u001b[0m\u001b[0;34m)\u001b[0m\u001b[0;34m:\u001b[0m\u001b[0;34m\u001b[0m\u001b[0m\n",
      "\u001b[0;32m~/anaconda3/lib/python3.6/site-packages/sklearn/externals/joblib/parallel.py\u001b[0m in \u001b[0;36m<listcomp>\u001b[0;34m(.0)\u001b[0m\n\u001b[1;32m    129\u001b[0m \u001b[0;34m\u001b[0m\u001b[0m\n\u001b[1;32m    130\u001b[0m     \u001b[0;32mdef\u001b[0m \u001b[0m__call__\u001b[0m\u001b[0;34m(\u001b[0m\u001b[0mself\u001b[0m\u001b[0;34m)\u001b[0m\u001b[0;34m:\u001b[0m\u001b[0;34m\u001b[0m\u001b[0m\n\u001b[0;32m--> 131\u001b[0;31m         \u001b[0;32mreturn\u001b[0m \u001b[0;34m[\u001b[0m\u001b[0mfunc\u001b[0m\u001b[0;34m(\u001b[0m\u001b[0;34m*\u001b[0m\u001b[0margs\u001b[0m\u001b[0;34m,\u001b[0m \u001b[0;34m**\u001b[0m\u001b[0mkwargs\u001b[0m\u001b[0;34m)\u001b[0m \u001b[0;32mfor\u001b[0m \u001b[0mfunc\u001b[0m\u001b[0;34m,\u001b[0m \u001b[0margs\u001b[0m\u001b[0;34m,\u001b[0m \u001b[0mkwargs\u001b[0m \u001b[0;32min\u001b[0m \u001b[0mself\u001b[0m\u001b[0;34m.\u001b[0m\u001b[0mitems\u001b[0m\u001b[0;34m]\u001b[0m\u001b[0;34m\u001b[0m\u001b[0m\n\u001b[0m\u001b[1;32m    132\u001b[0m \u001b[0;34m\u001b[0m\u001b[0m\n\u001b[1;32m    133\u001b[0m     \u001b[0;32mdef\u001b[0m \u001b[0m__len__\u001b[0m\u001b[0;34m(\u001b[0m\u001b[0mself\u001b[0m\u001b[0;34m)\u001b[0m\u001b[0;34m:\u001b[0m\u001b[0;34m\u001b[0m\u001b[0m\n",
      "\u001b[0;32m~/anaconda3/lib/python3.6/site-packages/sklearn/model_selection/_validation.py\u001b[0m in \u001b[0;36m_fit_and_score\u001b[0;34m(estimator, X, y, scorer, train, test, verbose, parameters, fit_params, return_train_score, return_parameters, return_n_test_samples, return_times, error_score)\u001b[0m\n\u001b[1;32m    490\u001b[0m         \u001b[0;32mif\u001b[0m \u001b[0mreturn_train_score\u001b[0m\u001b[0;34m:\u001b[0m\u001b[0;34m\u001b[0m\u001b[0m\n\u001b[1;32m    491\u001b[0m             train_scores = _score(estimator, X_train, y_train, scorer,\n\u001b[0;32m--> 492\u001b[0;31m                                   is_multimetric)\n\u001b[0m\u001b[1;32m    493\u001b[0m \u001b[0;34m\u001b[0m\u001b[0m\n\u001b[1;32m    494\u001b[0m     \u001b[0;32mif\u001b[0m \u001b[0mverbose\u001b[0m \u001b[0;34m>\u001b[0m \u001b[0;36m2\u001b[0m\u001b[0;34m:\u001b[0m\u001b[0;34m\u001b[0m\u001b[0m\n",
      "\u001b[0;32m~/anaconda3/lib/python3.6/site-packages/sklearn/model_selection/_validation.py\u001b[0m in \u001b[0;36m_score\u001b[0;34m(estimator, X_test, y_test, scorer, is_multimetric)\u001b[0m\n\u001b[1;32m    521\u001b[0m     \"\"\"\n\u001b[1;32m    522\u001b[0m     \u001b[0;32mif\u001b[0m \u001b[0mis_multimetric\u001b[0m\u001b[0;34m:\u001b[0m\u001b[0;34m\u001b[0m\u001b[0m\n\u001b[0;32m--> 523\u001b[0;31m         \u001b[0;32mreturn\u001b[0m \u001b[0m_multimetric_score\u001b[0m\u001b[0;34m(\u001b[0m\u001b[0mestimator\u001b[0m\u001b[0;34m,\u001b[0m \u001b[0mX_test\u001b[0m\u001b[0;34m,\u001b[0m \u001b[0my_test\u001b[0m\u001b[0;34m,\u001b[0m \u001b[0mscorer\u001b[0m\u001b[0;34m)\u001b[0m\u001b[0;34m\u001b[0m\u001b[0m\n\u001b[0m\u001b[1;32m    524\u001b[0m     \u001b[0;32melse\u001b[0m\u001b[0;34m:\u001b[0m\u001b[0;34m\u001b[0m\u001b[0m\n\u001b[1;32m    525\u001b[0m         \u001b[0;32mif\u001b[0m \u001b[0my_test\u001b[0m \u001b[0;32mis\u001b[0m \u001b[0;32mNone\u001b[0m\u001b[0;34m:\u001b[0m\u001b[0;34m\u001b[0m\u001b[0m\n",
      "\u001b[0;32m~/anaconda3/lib/python3.6/site-packages/sklearn/model_selection/_validation.py\u001b[0m in \u001b[0;36m_multimetric_score\u001b[0;34m(estimator, X_test, y_test, scorers)\u001b[0m\n\u001b[1;32m    551\u001b[0m             \u001b[0mscore\u001b[0m \u001b[0;34m=\u001b[0m \u001b[0mscorer\u001b[0m\u001b[0;34m(\u001b[0m\u001b[0mestimator\u001b[0m\u001b[0;34m,\u001b[0m \u001b[0mX_test\u001b[0m\u001b[0;34m)\u001b[0m\u001b[0;34m\u001b[0m\u001b[0m\n\u001b[1;32m    552\u001b[0m         \u001b[0;32melse\u001b[0m\u001b[0;34m:\u001b[0m\u001b[0;34m\u001b[0m\u001b[0m\n\u001b[0;32m--> 553\u001b[0;31m             \u001b[0mscore\u001b[0m \u001b[0;34m=\u001b[0m \u001b[0mscorer\u001b[0m\u001b[0;34m(\u001b[0m\u001b[0mestimator\u001b[0m\u001b[0;34m,\u001b[0m \u001b[0mX_test\u001b[0m\u001b[0;34m,\u001b[0m \u001b[0my_test\u001b[0m\u001b[0;34m)\u001b[0m\u001b[0;34m\u001b[0m\u001b[0m\n\u001b[0m\u001b[1;32m    554\u001b[0m \u001b[0;34m\u001b[0m\u001b[0m\n\u001b[1;32m    555\u001b[0m         \u001b[0;32mif\u001b[0m \u001b[0mhasattr\u001b[0m\u001b[0;34m(\u001b[0m\u001b[0mscore\u001b[0m\u001b[0;34m,\u001b[0m \u001b[0;34m'item'\u001b[0m\u001b[0;34m)\u001b[0m\u001b[0;34m:\u001b[0m\u001b[0;34m\u001b[0m\u001b[0m\n",
      "\u001b[0;32m~/anaconda3/lib/python3.6/site-packages/sklearn/metrics/scorer.py\u001b[0m in \u001b[0;36m_passthrough_scorer\u001b[0;34m(estimator, *args, **kwargs)\u001b[0m\n\u001b[1;32m    242\u001b[0m \u001b[0;32mdef\u001b[0m \u001b[0m_passthrough_scorer\u001b[0m\u001b[0;34m(\u001b[0m\u001b[0mestimator\u001b[0m\u001b[0;34m,\u001b[0m \u001b[0;34m*\u001b[0m\u001b[0margs\u001b[0m\u001b[0;34m,\u001b[0m \u001b[0;34m**\u001b[0m\u001b[0mkwargs\u001b[0m\u001b[0;34m)\u001b[0m\u001b[0;34m:\u001b[0m\u001b[0;34m\u001b[0m\u001b[0m\n\u001b[1;32m    243\u001b[0m     \u001b[0;34m\"\"\"Function that wraps estimator.score\"\"\"\u001b[0m\u001b[0;34m\u001b[0m\u001b[0m\n\u001b[0;32m--> 244\u001b[0;31m     \u001b[0;32mreturn\u001b[0m \u001b[0mestimator\u001b[0m\u001b[0;34m.\u001b[0m\u001b[0mscore\u001b[0m\u001b[0;34m(\u001b[0m\u001b[0;34m*\u001b[0m\u001b[0margs\u001b[0m\u001b[0;34m,\u001b[0m \u001b[0;34m**\u001b[0m\u001b[0mkwargs\u001b[0m\u001b[0;34m)\u001b[0m\u001b[0;34m\u001b[0m\u001b[0m\n\u001b[0m\u001b[1;32m    245\u001b[0m \u001b[0;34m\u001b[0m\u001b[0m\n\u001b[1;32m    246\u001b[0m \u001b[0;34m\u001b[0m\u001b[0m\n",
      "\u001b[0;32m~/anaconda3/lib/python3.6/site-packages/sklearn/base.py\u001b[0m in \u001b[0;36mscore\u001b[0;34m(self, X, y, sample_weight)\u001b[0m\n\u001b[1;32m    347\u001b[0m         \"\"\"\n\u001b[1;32m    348\u001b[0m         \u001b[0;32mfrom\u001b[0m \u001b[0;34m.\u001b[0m\u001b[0mmetrics\u001b[0m \u001b[0;32mimport\u001b[0m \u001b[0maccuracy_score\u001b[0m\u001b[0;34m\u001b[0m\u001b[0m\n\u001b[0;32m--> 349\u001b[0;31m         \u001b[0;32mreturn\u001b[0m \u001b[0maccuracy_score\u001b[0m\u001b[0;34m(\u001b[0m\u001b[0my\u001b[0m\u001b[0;34m,\u001b[0m \u001b[0mself\u001b[0m\u001b[0;34m.\u001b[0m\u001b[0mpredict\u001b[0m\u001b[0;34m(\u001b[0m\u001b[0mX\u001b[0m\u001b[0;34m)\u001b[0m\u001b[0;34m,\u001b[0m \u001b[0msample_weight\u001b[0m\u001b[0;34m=\u001b[0m\u001b[0msample_weight\u001b[0m\u001b[0;34m)\u001b[0m\u001b[0;34m\u001b[0m\u001b[0m\n\u001b[0m\u001b[1;32m    350\u001b[0m \u001b[0;34m\u001b[0m\u001b[0m\n\u001b[1;32m    351\u001b[0m \u001b[0;34m\u001b[0m\u001b[0m\n",
      "\u001b[0;32m~/anaconda3/lib/python3.6/site-packages/sklearn/svm/base.py\u001b[0m in \u001b[0;36mpredict\u001b[0;34m(self, X)\u001b[0m\n\u001b[1;32m    546\u001b[0m             \u001b[0mClass\u001b[0m \u001b[0mlabels\u001b[0m \u001b[0;32mfor\u001b[0m \u001b[0msamples\u001b[0m \u001b[0;32min\u001b[0m \u001b[0mX\u001b[0m\u001b[0;34m.\u001b[0m\u001b[0;34m\u001b[0m\u001b[0m\n\u001b[1;32m    547\u001b[0m         \"\"\"\n\u001b[0;32m--> 548\u001b[0;31m         \u001b[0my\u001b[0m \u001b[0;34m=\u001b[0m \u001b[0msuper\u001b[0m\u001b[0;34m(\u001b[0m\u001b[0mBaseSVC\u001b[0m\u001b[0;34m,\u001b[0m \u001b[0mself\u001b[0m\u001b[0;34m)\u001b[0m\u001b[0;34m.\u001b[0m\u001b[0mpredict\u001b[0m\u001b[0;34m(\u001b[0m\u001b[0mX\u001b[0m\u001b[0;34m)\u001b[0m\u001b[0;34m\u001b[0m\u001b[0m\n\u001b[0m\u001b[1;32m    549\u001b[0m         \u001b[0;32mreturn\u001b[0m \u001b[0mself\u001b[0m\u001b[0;34m.\u001b[0m\u001b[0mclasses_\u001b[0m\u001b[0;34m.\u001b[0m\u001b[0mtake\u001b[0m\u001b[0;34m(\u001b[0m\u001b[0mnp\u001b[0m\u001b[0;34m.\u001b[0m\u001b[0masarray\u001b[0m\u001b[0;34m(\u001b[0m\u001b[0my\u001b[0m\u001b[0;34m,\u001b[0m \u001b[0mdtype\u001b[0m\u001b[0;34m=\u001b[0m\u001b[0mnp\u001b[0m\u001b[0;34m.\u001b[0m\u001b[0mintp\u001b[0m\u001b[0;34m)\u001b[0m\u001b[0;34m)\u001b[0m\u001b[0;34m\u001b[0m\u001b[0m\n\u001b[1;32m    550\u001b[0m \u001b[0;34m\u001b[0m\u001b[0m\n",
      "\u001b[0;32m~/anaconda3/lib/python3.6/site-packages/sklearn/svm/base.py\u001b[0m in \u001b[0;36mpredict\u001b[0;34m(self, X)\u001b[0m\n\u001b[1;32m    308\u001b[0m         \u001b[0mX\u001b[0m \u001b[0;34m=\u001b[0m \u001b[0mself\u001b[0m\u001b[0;34m.\u001b[0m\u001b[0m_validate_for_predict\u001b[0m\u001b[0;34m(\u001b[0m\u001b[0mX\u001b[0m\u001b[0;34m)\u001b[0m\u001b[0;34m\u001b[0m\u001b[0m\n\u001b[1;32m    309\u001b[0m         \u001b[0mpredict\u001b[0m \u001b[0;34m=\u001b[0m \u001b[0mself\u001b[0m\u001b[0;34m.\u001b[0m\u001b[0m_sparse_predict\u001b[0m \u001b[0;32mif\u001b[0m \u001b[0mself\u001b[0m\u001b[0;34m.\u001b[0m\u001b[0m_sparse\u001b[0m \u001b[0;32melse\u001b[0m \u001b[0mself\u001b[0m\u001b[0;34m.\u001b[0m\u001b[0m_dense_predict\u001b[0m\u001b[0;34m\u001b[0m\u001b[0m\n\u001b[0;32m--> 310\u001b[0;31m         \u001b[0;32mreturn\u001b[0m \u001b[0mpredict\u001b[0m\u001b[0;34m(\u001b[0m\u001b[0mX\u001b[0m\u001b[0;34m)\u001b[0m\u001b[0;34m\u001b[0m\u001b[0m\n\u001b[0m\u001b[1;32m    311\u001b[0m \u001b[0;34m\u001b[0m\u001b[0m\n\u001b[1;32m    312\u001b[0m     \u001b[0;32mdef\u001b[0m \u001b[0m_dense_predict\u001b[0m\u001b[0;34m(\u001b[0m\u001b[0mself\u001b[0m\u001b[0;34m,\u001b[0m \u001b[0mX\u001b[0m\u001b[0;34m)\u001b[0m\u001b[0;34m:\u001b[0m\u001b[0;34m\u001b[0m\u001b[0m\n",
      "\u001b[0;32m~/anaconda3/lib/python3.6/site-packages/sklearn/svm/base.py\u001b[0m in \u001b[0;36m_dense_predict\u001b[0;34m(self, X)\u001b[0m\n\u001b[1;32m    331\u001b[0m             \u001b[0mself\u001b[0m\u001b[0;34m.\u001b[0m\u001b[0mprobA_\u001b[0m\u001b[0;34m,\u001b[0m \u001b[0mself\u001b[0m\u001b[0;34m.\u001b[0m\u001b[0mprobB_\u001b[0m\u001b[0;34m,\u001b[0m \u001b[0msvm_type\u001b[0m\u001b[0;34m=\u001b[0m\u001b[0msvm_type\u001b[0m\u001b[0;34m,\u001b[0m \u001b[0mkernel\u001b[0m\u001b[0;34m=\u001b[0m\u001b[0mkernel\u001b[0m\u001b[0;34m,\u001b[0m\u001b[0;34m\u001b[0m\u001b[0m\n\u001b[1;32m    332\u001b[0m             \u001b[0mdegree\u001b[0m\u001b[0;34m=\u001b[0m\u001b[0mself\u001b[0m\u001b[0;34m.\u001b[0m\u001b[0mdegree\u001b[0m\u001b[0;34m,\u001b[0m \u001b[0mcoef0\u001b[0m\u001b[0;34m=\u001b[0m\u001b[0mself\u001b[0m\u001b[0;34m.\u001b[0m\u001b[0mcoef0\u001b[0m\u001b[0;34m,\u001b[0m \u001b[0mgamma\u001b[0m\u001b[0;34m=\u001b[0m\u001b[0mself\u001b[0m\u001b[0;34m.\u001b[0m\u001b[0m_gamma\u001b[0m\u001b[0;34m,\u001b[0m\u001b[0;34m\u001b[0m\u001b[0m\n\u001b[0;32m--> 333\u001b[0;31m             cache_size=self.cache_size)\n\u001b[0m\u001b[1;32m    334\u001b[0m \u001b[0;34m\u001b[0m\u001b[0m\n\u001b[1;32m    335\u001b[0m     \u001b[0;32mdef\u001b[0m \u001b[0m_sparse_predict\u001b[0m\u001b[0;34m(\u001b[0m\u001b[0mself\u001b[0m\u001b[0;34m,\u001b[0m \u001b[0mX\u001b[0m\u001b[0;34m)\u001b[0m\u001b[0;34m:\u001b[0m\u001b[0;34m\u001b[0m\u001b[0m\n",
      "\u001b[0;31mKeyboardInterrupt\u001b[0m: "
     ]
    }
   ],
   "source": [
    "# add 'linear', to kernel \n",
    "\n",
    "# gridsearch SVM\n",
    "from sklearn.svm import SVC\n",
    "\n",
    "svc_params = {\n",
    "    'C':np.logspace(-1, 2, 5),\n",
    "    'gamma':np.logspace(-1, 2, 5),\n",
    "    'kernel':['rbf']\n",
    "}\n",
    "\n",
    "svc_gs = GridSearchCV(SVC(), svc_params, cv=3, verbose=1)\n",
    "svc_gs.fit(Xn, y)\n",
    "\n",
    " "
   ]
  },
  {
   "cell_type": "code",
   "execution_count": 49,
   "metadata": {},
   "outputs": [
    {
     "ename": "AttributeError",
     "evalue": "'GridSearchCV' object has no attribute 'best_estimator_'",
     "output_type": "error",
     "traceback": [
      "\u001b[0;31m---------------------------------------------------------------------------\u001b[0m",
      "\u001b[0;31mAttributeError\u001b[0m                            Traceback (most recent call last)",
      "\u001b[0;32m<ipython-input-49-3329bc79b499>\u001b[0m in \u001b[0;36m<module>\u001b[0;34m()\u001b[0m\n\u001b[0;32m----> 1\u001b[0;31m \u001b[0mbest_svc\u001b[0m \u001b[0;34m=\u001b[0m \u001b[0msvc_gs\u001b[0m\u001b[0;34m.\u001b[0m\u001b[0mbest_estimator_\u001b[0m\u001b[0;34m\u001b[0m\u001b[0m\n\u001b[0m\u001b[1;32m      2\u001b[0m \u001b[0mprint\u001b[0m\u001b[0;34m(\u001b[0m\u001b[0msvc_gs\u001b[0m\u001b[0;34m.\u001b[0m\u001b[0mbest_params_\u001b[0m\u001b[0;34m)\u001b[0m\u001b[0;34m\u001b[0m\u001b[0m\n\u001b[1;32m      3\u001b[0m \u001b[0mprint\u001b[0m\u001b[0;34m(\u001b[0m\u001b[0msvc_gs\u001b[0m\u001b[0;34m.\u001b[0m\u001b[0mbest_score_\u001b[0m\u001b[0;34m)\u001b[0m\u001b[0;34m\u001b[0m\u001b[0m\n",
      "\u001b[0;31mAttributeError\u001b[0m: 'GridSearchCV' object has no attribute 'best_estimator_'"
     ]
    }
   ],
   "source": [
    "best_svc = svc_gs.best_estimator_\n",
    "print(svc_gs.best_params_)\n",
    "print(svc_gs.best_score_)\n"
   ]
  },
  {
   "cell_type": "code",
   "execution_count": 50,
   "metadata": {},
   "outputs": [
    {
     "name": "stdout",
     "output_type": "stream",
     "text": [
      "Fitting 5 folds for each of 80 candidates, totalling 400 fits\n"
     ]
    },
    {
     "name": "stderr",
     "output_type": "stream",
     "text": [
      "[Parallel(n_jobs=1)]: Done 400 out of 400 | elapsed:  1.3min finished\n"
     ]
    },
    {
     "data": {
      "text/plain": [
       "GridSearchCV(cv=5, error_score='raise',\n",
       "       estimator=LogisticRegression(C=1.0, class_weight=None, dual=False, fit_intercept=True,\n",
       "          intercept_scaling=1, max_iter=100, multi_class='ovr', n_jobs=1,\n",
       "          penalty='l2', random_state=None, solver='liblinear', tol=0.0001,\n",
       "          verbose=0, warm_start=False),\n",
       "       fit_params=None, iid=True, n_jobs=1,\n",
       "       param_grid={'penalty': ['l1', 'l2'], 'C': array([  1.00000e-04,   1.42510e-04,   2.03092e-04,   2.89427e-04,\n",
       "         4.12463e-04,   5.87802e-04,   8.37678e-04,   1.19378e-03,\n",
       "         1.70125e-03,   2.42446e-03,   3.45511e-03,   4.92388e-03,\n",
       "         7.01704e-03,   1.00000e-02,   1.42510e-02,   2.0...6e+01,\n",
       "         3.45511e+01,   4.92388e+01,   7.01704e+01,   1.00000e+02]), 'solver': ['liblinear']},\n",
       "       pre_dispatch='2*n_jobs', refit=True, return_train_score='warn',\n",
       "       scoring=None, verbose=1)"
      ]
     },
     "execution_count": 50,
     "metadata": {},
     "output_type": "execute_result"
    }
   ],
   "source": [
    "from sklearn.linear_model import LogisticRegression\n",
    "\n",
    "lr_params = {\n",
    "    'penalty':['l1','l2'],\n",
    "    'C':np.logspace(-4, 2, 40),\n",
    "    'solver':['liblinear']\n",
    "}\n",
    "\n",
    "lr_gs = GridSearchCV(LogisticRegression(), lr_params, cv=5, verbose=1)\n",
    "lr_gs.fit(Xn, y)\n",
    "\n"
   ]
  },
  {
   "cell_type": "code",
   "execution_count": 51,
   "metadata": {},
   "outputs": [
    {
     "name": "stdout",
     "output_type": "stream",
     "text": [
      "{'C': 0.0001, 'penalty': 'l1', 'solver': 'liblinear'}\n",
      "0.700846660395\n"
     ]
    }
   ],
   "source": [
    "best_lr = lr_gs.best_estimator_\n",
    "print(lr_gs.best_params_)\n",
    "print(lr_gs.best_score_)\n"
   ]
  },
  {
   "cell_type": "code",
   "execution_count": null,
   "metadata": {},
   "outputs": [],
   "source": [
    "from sklearn.linear_model import LogisticRegression\n",
    "\n",
    "lr_params = {\n",
    "    'penalty':['l1','l2'],\n",
    "    'C':np.logspace(-4, 2, 10),\n",
    "    'solver':['rbf']\n",
    "}\n",
    "\n",
    "lr_gs = GridSearchCV(LogisticRegression(), lr_params, cv=5, verbose=1)\n",
    "lr_gs.fit(Xn, y)"
   ]
  },
  {
   "cell_type": "markdown",
   "metadata": {},
   "source": [
    "### Dr. Gauss"
   ]
  },
  {
   "cell_type": "code",
   "execution_count": 44,
   "metadata": {},
   "outputs": [],
   "source": [
    "# Split our data\n",
    "train, test, train_labels, test_labels = train_test_split(X,\n",
    "                                                          y,\n",
    "                                                          test_size=0.33,\n",
    "                                                          random_state=42)"
   ]
  },
  {
   "cell_type": "code",
   "execution_count": 45,
   "metadata": {},
   "outputs": [],
   "source": [
    "from sklearn.naive_bayes import GaussianNB\n",
    "# Initialize our classifier\n",
    "gnb = GaussianNB()\n",
    "\n",
    "# Train our classifier\n",
    "model = gnb.fit(train, train_labels)"
   ]
  },
  {
   "cell_type": "code",
   "execution_count": 46,
   "metadata": {},
   "outputs": [
    {
     "name": "stdout",
     "output_type": "stream",
     "text": [
      "['Theft' 'Theft' 'Theft' ..., 'Theft' 'Theft' 'Theft']\n"
     ]
    }
   ],
   "source": [
    "# Make predictions\n",
    "preds = gnb.predict(test)\n",
    "print(preds)\n"
   ]
  },
  {
   "cell_type": "code",
   "execution_count": 47,
   "metadata": {
    "scrolled": true
   },
   "outputs": [
    {
     "name": "stdout",
     "output_type": "stream",
     "text": [
      "0.701254275941\n"
     ]
    }
   ],
   "source": [
    "from sklearn.metrics import accuracy_score\n",
    "\n",
    "# Evaluate accuracy\n",
    "print(accuracy_score(test_labels, preds))\n"
   ]
  },
  {
   "cell_type": "markdown",
   "metadata": {},
   "source": [
    "# GradientBoostingClassifier()"
   ]
  },
  {
   "cell_type": "code",
   "execution_count": 167,
   "metadata": {},
   "outputs": [],
   "source": [
    "from sklearn.ensemble import GradientBoostingClassifier"
   ]
  },
  {
   "cell_type": "code",
   "execution_count": 176,
   "metadata": {},
   "outputs": [],
   "source": [
    "clf = GradientBoostingClassifier(n_estimators = 40, max_depth = 5, min_samples_split = 2,\n",
    "          learning_rate = 0.1)"
   ]
  },
  {
   "cell_type": "code",
   "execution_count": 177,
   "metadata": {},
   "outputs": [
    {
     "data": {
      "text/plain": [
       "GradientBoostingClassifier(criterion='friedman_mse', init=None,\n",
       "              learning_rate=0.1, loss='deviance', max_depth=5,\n",
       "              max_features=None, max_leaf_nodes=None,\n",
       "              min_impurity_decrease=0.0, min_impurity_split=None,\n",
       "              min_samples_leaf=1, min_samples_split=2,\n",
       "              min_weight_fraction_leaf=0.0, n_estimators=40,\n",
       "              presort='auto', random_state=None, subsample=1.0, verbose=0,\n",
       "              warm_start=False)"
      ]
     },
     "execution_count": 177,
     "metadata": {},
     "output_type": "execute_result"
    }
   ],
   "source": [
    "clf.fit(X_train, y_train)"
   ]
  },
  {
   "cell_type": "code",
   "execution_count": 179,
   "metadata": {},
   "outputs": [
    {
     "data": {
      "text/plain": [
       "0.38336862681218442"
      ]
     },
     "execution_count": 179,
     "metadata": {},
     "output_type": "execute_result"
    }
   ],
   "source": [
    "clf.score(X_test,y_test)"
   ]
  },
  {
   "cell_type": "markdown",
   "metadata": {},
   "source": [
    "### 4C) binary classifier to predict weekday or weekend occurence of theft"
   ]
  },
  {
   "cell_type": "code",
   "execution_count": null,
   "metadata": {},
   "outputs": [],
   "source": [
    "X = df_new_1[['Council District','weekday', 'Month', 'Agg Assault','Auto Theft', 'Burglary', 'Murder', 'Rape', \n",
    "    'Robbery', 'GO Location Zip','weekend', 'Agg Assault', 'Auto Theft', 'Burglary', 'Murder', 'Rape','Robbery', 'Theft']]\n",
    "y = df_new_1[]"
   ]
  },
  {
   "cell_type": "code",
   "execution_count": null,
   "metadata": {},
   "outputs": [],
   "source": []
  },
  {
   "cell_type": "code",
   "execution_count": null,
   "metadata": {},
   "outputs": [],
   "source": []
  },
  {
   "cell_type": "code",
   "execution_count": null,
   "metadata": {},
   "outputs": [],
   "source": []
  },
  {
   "cell_type": "markdown",
   "metadata": {},
   "source": [
    "# 4D) Rolling Sum Columns for Crime"
   ]
  },
  {
   "cell_type": "code",
   "execution_count": null,
   "metadata": {},
   "outputs": [],
   "source": [
    "4D.1)\n",
    "4D.2)\n",
    "4D.3)\n",
    "\n"
   ]
  },
  {
   "cell_type": "markdown",
   "metadata": {},
   "source": [
    "# Step 5- chi2 testing"
   ]
  },
  {
   "cell_type": "markdown",
   "metadata": {},
   "source": [
    "Chi square distribution is essentially: how good observed distributions adhere to theorhetical distributions\n",
    "Basically sampling from normal distribution then squaring the value you have (more variables more degree of freedom)\n",
    "\n",
    "Chi square tests whether the distribution of sample categorical data matches an expected distribution. For example, you could use a chi-squared goodness-of-fit test to check whether the race demographics of members at your church or school match that of the entire U.S. population or whether the computer browser preferences of your friends match those of Internet uses as a whole.\n",
    "When working with categorical data the values the observations themselves aren't of much use for statistical testing because categories like \"male\", \"female,\" and \"other\" have no mathematical meaning. Tests dealing with categorical variables are based on variable counts instead of the actual value of the variables themselves.\n"
   ]
  },
  {
   "cell_type": "markdown",
   "metadata": {},
   "source": [
    "For this test: anticipate that the number of crimes is more during weekend and determine if the actual distribution is similar to that we expected (so take 7 days to determine if difference is apparent)"
   ]
  },
  {
   "cell_type": "code",
   "execution_count": 52,
   "metadata": {},
   "outputs": [
    {
     "data": {
      "text/plain": [
       "14.285714285714286"
      ]
     },
     "execution_count": 52,
     "metadata": {},
     "output_type": "execute_result"
    }
   ],
   "source": [
    "100/7"
   ]
  },
  {
   "cell_type": "markdown",
   "metadata": {},
   "source": [
    "out of 100% expected assumption\n",
    "                                        \n",
    "Monday:   12%       \n",
    "                                \n",
    "Tuesday:  12%\n",
    "\n",
    "Wednesday:12%\n",
    "\n",
    "Thursday: 12%\n",
    "\n",
    "Friday:   16%\n",
    "\n",
    "Saturday: 18%\n",
    "\n",
    "Sunday:   18%"
   ]
  },
  {
   "cell_type": "code",
   "execution_count": 137,
   "metadata": {},
   "outputs": [
    {
     "name": "stdout",
     "output_type": "stream",
     "text": [
      "Monday expected total is: 4464\n",
      "Tuesday expected total is: 4464\n",
      "Wednesday expected total is: 4464\n",
      "Thursday expected total is: 4464\n",
      "Friday expected total is: 5952\n",
      "Saturday expected total is: 6696\n",
      "Sunday expected total is: 6696\n"
     ]
    }
   ],
   "source": [
    "Monday_expected = (.12*37205)     \n",
    "print('Monday expected total is:', int(.12*37205) )\n",
    "Tuesday_expected = (.12*37205)\n",
    "print('Tuesday expected total is:', int(.12*37205) )\n",
    "Wednesday_expected = (.12*37205)\n",
    "print('Wednesday expected total is:', int(.12*37205) )\n",
    "Thursday_expected = (.12*37205)\n",
    "print('Thursday expected total is:', int(.12*37205) )\n",
    "Friday_expected = (.16*37205)\n",
    "print('Friday expected total is:', int(.16*37205) )\n",
    "Saturday_expected = (.18*37205)\n",
    "print('Saturday expected total is:', int(.18*37205) )\n",
    "Sunday_expected = (.18*37205)\n",
    "print('Sunday expected total is:', int(.18*37205) )"
   ]
  },
  {
   "cell_type": "code",
   "execution_count": 138,
   "metadata": {},
   "outputs": [
    {
     "data": {
      "text/plain": [
       "0    6134\n",
       "1    5641\n",
       "4    5481\n",
       "2    5470\n",
       "3    5364\n",
       "6    4623\n",
       "5    4492\n",
       "Name: weekday, dtype: int64"
      ]
     },
     "execution_count": 138,
     "metadata": {},
     "output_type": "execute_result"
    }
   ],
   "source": [
    "df['weekday'].value_counts()"
   ]
  },
  {
   "cell_type": "code",
   "execution_count": 141,
   "metadata": {},
   "outputs": [
    {
     "data": {
      "text/plain": [
       "186020"
      ]
     },
     "execution_count": 141,
     "metadata": {},
     "output_type": "execute_result"
    }
   ],
   "source": [
    "# degree of freedom = (# rows -1) * (# col -1)\n",
    "(37205-1)*(6-1)"
   ]
  },
  {
   "cell_type": "code",
   "execution_count": 140,
   "metadata": {},
   "outputs": [
    {
     "data": {
      "text/plain": [
       "624.7535842293906"
      ]
     },
     "execution_count": 140,
     "metadata": {},
     "output_type": "execute_result"
    }
   ],
   "source": [
    "#6134-4465 = 1699 *^2 = 2835631 / 6134\n",
    "\n",
    "#subtract each observed value from its expected value, square it, and then divide by the expected value\n",
    "((4464-6134)**2)/4464"
   ]
  },
  {
   "cell_type": "code",
   "execution_count": 54,
   "metadata": {},
   "outputs": [
    {
     "data": {
      "text/plain": [
       "(37205, 14)"
      ]
     },
     "execution_count": 54,
     "metadata": {},
     "output_type": "execute_result"
    }
   ],
   "source": [
    "df.shape"
   ]
  },
  {
   "cell_type": "code",
   "execution_count": 128,
   "metadata": {},
   "outputs": [
    {
     "name": "stdout",
     "output_type": "stream",
     "text": [
      "Monday actual total is (as%): 0.16487031312995565\n"
     ]
    }
   ],
   "source": [
    "# observed total for Monday (0) = 6134/37205\n",
    "Monday_observed  = 6134\n",
    "print('Monday actual total is (as%):', 6134/37205 )"
   ]
  },
  {
   "cell_type": "code",
   "execution_count": 129,
   "metadata": {},
   "outputs": [
    {
     "name": "stdout",
     "output_type": "stream",
     "text": [
      "Tuesday actual total is (as%): 0.15161940599381804\n"
     ]
    }
   ],
   "source": [
    "# observed  total for Tuesday (1) = 5641/37205\n",
    "Tuesday_observed  = 5641\n",
    "print('Tuesday actual total is (as%):', 5641/37205 )"
   ]
  },
  {
   "cell_type": "code",
   "execution_count": 130,
   "metadata": {},
   "outputs": [
    {
     "name": "stdout",
     "output_type": "stream",
     "text": [
      "Wednesday actual total is (as%): 0.14702324956323076\n"
     ]
    }
   ],
   "source": [
    "# observed  total for Wednesday (2) = 5470/37205\n",
    "Wednesday_observed  = 5470\n",
    "print('Wednesday actual total is (as%):', 5470/37205 )"
   ]
  },
  {
   "cell_type": "code",
   "execution_count": 131,
   "metadata": {},
   "outputs": [
    {
     "name": "stdout",
     "output_type": "stream",
     "text": [
      "Thursday actual total is (as%): 0.14417417013842226\n"
     ]
    }
   ],
   "source": [
    "# observed  total for Thursday (3) = 5364/37205\n",
    "Thursday_observed  = 5364\n",
    "print('Thursday actual total is (as%):', 5364/37205 )"
   ]
  },
  {
   "cell_type": "code",
   "execution_count": 132,
   "metadata": {},
   "outputs": [
    {
     "name": "stdout",
     "output_type": "stream",
     "text": [
      "Friday actual total is (as%): 0.14731890874882408\n"
     ]
    }
   ],
   "source": [
    "# observed total for Friday (4) = 5481/37205\n",
    "Friday_observed  = 5481\n",
    "print('Friday actual total is (as%):', 5481/37205 )"
   ]
  },
  {
   "cell_type": "code",
   "execution_count": 133,
   "metadata": {},
   "outputs": [
    {
     "name": "stdout",
     "output_type": "stream",
     "text": [
      "Saturday actual total is (as%): 0.12073646015320522\n"
     ]
    }
   ],
   "source": [
    "# observed  total for Saturday (5) = 4492/37205\n",
    "Saturday_observed  = 4492\n",
    "print('Saturday actual total is (as%):', 4492/37205 )"
   ]
  },
  {
   "cell_type": "code",
   "execution_count": 134,
   "metadata": {},
   "outputs": [
    {
     "name": "stdout",
     "output_type": "stream",
     "text": [
      "Sunday actual total is (as%): 0.12425749227254401\n"
     ]
    }
   ],
   "source": [
    "# actual total for Sunday (6) = 4623/37205\n",
    "Sunday_observed  = 4623\n",
    "print('Sunday actual total is (as%):', 4623/37205 )"
   ]
  },
  {
   "cell_type": "code",
   "execution_count": 92,
   "metadata": {},
   "outputs": [],
   "source": [
    "# formula = (actual-expected)^2 / (expected)  --> add all of them up and = chi squared stat (probability)\n",
    "# probability at least this extreme OR is this more extreme than critical chi square value (or alpha-- we'll say 5%)\n",
    "# has 6 degrees of freedom because 7 days - 1 day\n",
    "# https://www.khanacademy.org/math/statistics-probability/inference-categorical-data-chi-square-tests/chi-square-goodness-of-fit-tests/v/pearson-s-chi-square-test-goodness-of-fit"
   ]
  },
  {
   "cell_type": "code",
   "execution_count": 136,
   "metadata": {},
   "outputs": [
    {
     "name": "stdout",
     "output_type": "stream",
     "text": [
      "Chi Squared statistic value: 2747.377013991549\n"
     ]
    }
   ],
   "source": [
    "#The chi-square calculation is pretty straight forward: \n",
    "#subtract each observed value from its expected value, square it, and then divide by the expected value. \n",
    "\n",
    "Chi_value = (Monday_expected-Monday_observed)**2 / Monday_expected + \\\n",
    "            (Tuesday_expected-Tuesday_observed)**2 / Tuesday_expected + \\\n",
    "            (Wednesday_expected-Wednesday_observed)**2 / Wednesday_expected + \\\n",
    "            (Thursday_expected-Thursday_observed)**2 / Thursday_expected + \\\n",
    "            (Friday_expected-Friday_observed)**2 / Friday_expected + \\\n",
    "            (Saturday_expected-Saturday_observed)**2 / Saturday_expected + \\\n",
    "            (Sunday_expected-Sunday_observed)**2 / Sunday_expected \n",
    "            \n",
    "print('Chi Squared statistic value:', Chi_value)      \n",
    "# at 6 degrees of freedom (n-1) with a 5% significance value, the critical chi squared value is = 12.59 \n",
    "#http://www.statisticshowto.com/probability-and-statistics/chi-square/"
   ]
  },
  {
   "cell_type": "markdown",
   "metadata": {},
   "source": [
    "The research hypothesis is what we’re hoping to show, in this case, that the day of week means something for crimes. \n",
    "\n",
    "The null hypothesis is the opposite and in our example it means that the day of the week doesn’t factor into when crimes actually take place. --> so we CAN reject the null hypothesis because 2747 is waaaay bigger than 12.59?"
   ]
  },
  {
   "cell_type": "code",
   "execution_count": 148,
   "metadata": {},
   "outputs": [
    {
     "data": {
      "text/plain": [
       "Power_divergenceResult(statistic=2818.8079450418159, pvalue=0.0)"
      ]
     },
     "execution_count": 148,
     "metadata": {},
     "output_type": "execute_result"
    }
   ],
   "source": [
    "from scipy.stats import chisquare\n",
    "\n",
    "chisquare([6134,5641,5481,5470,5364,4623,4492], f_exp=[4464,4464,4464,4464,5952,6696,6696])\n",
    " \n",
    "#https://docs.scipy.org/doc/scipy/reference/generated/scipy.stats.chisquare.html\n",
    "\n",
    "\n"
   ]
  },
  {
   "cell_type": "code",
   "execution_count": null,
   "metadata": {},
   "outputs": [],
   "source": []
  }
 ],
 "metadata": {
  "kernelspec": {
   "display_name": "Python 3",
   "language": "python",
   "name": "python3"
  },
  "language_info": {
   "codemirror_mode": {
    "name": "ipython",
    "version": 3
   },
   "file_extension": ".py",
   "mimetype": "text/x-python",
   "name": "python",
   "nbconvert_exporter": "python",
   "pygments_lexer": "ipython3",
   "version": "3.6.3"
  }
 },
 "nbformat": 4,
 "nbformat_minor": 2
}
